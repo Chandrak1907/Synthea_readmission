{
 "cells": [
  {
   "cell_type": "markdown",
   "id": "6f45dee4",
   "metadata": {},
   "source": [
    "### OCI Data Science - Useful Tips\n",
    "<details>\n",
    "<summary><font size=\"2\">Check for Public Internet Access</font></summary>\n",
    "\n",
    "```python\n",
    "import requests\n",
    "response = requests.get(\"https://oracle.com\")\n",
    "assert response.status_code==200, \"Internet connection failed\"\n",
    "```\n",
    "</details>\n",
    "<details>\n",
    "<summary><font size=\"2\">Helpful Documentation </font></summary>\n",
    "<ul><li><a href=\"https://docs.cloud.oracle.com/en-us/iaas/data-science/using/data-science.htm\">Data Science Service Documentation</a></li>\n",
    "<li><a href=\"https://docs.cloud.oracle.com/iaas/tools/ads-sdk/latest/index.html\">ADS documentation</a></li>\n",
    "</ul>\n",
    "</details>\n",
    "<details>\n",
    "<summary><font size=\"2\">Typical Cell Imports and Settings for ADS</font></summary>\n",
    "\n",
    "```python\n",
    "%load_ext autoreload\n",
    "%autoreload 2\n",
    "%matplotlib inline\n",
    "\n",
    "import warnings\n",
    "warnings.filterwarnings('ignore')\n",
    "\n",
    "import logging\n",
    "logging.basicConfig(format='%(levelname)s:%(message)s', level=logging.ERROR)\n",
    "\n",
    "import ads\n",
    "from ads.dataset.factory import DatasetFactory\n",
    "from ads.automl.provider import OracleAutoMLProvider\n",
    "from ads.automl.driver import AutoML\n",
    "from ads.evaluations.evaluator import ADSEvaluator\n",
    "from ads.common.data import ADSData\n",
    "from ads.explanations.explainer import ADSExplainer\n",
    "from ads.explanations.mlx_global_explainer import MLXGlobalExplainer\n",
    "from ads.explanations.mlx_local_explainer import MLXLocalExplainer\n",
    "from ads.catalog.model import ModelCatalog\n",
    "from ads.common.model_artifact import ModelArtifact\n",
    "```\n",
    "</details>\n",
    "<details>\n",
    "<summary><font size=\"2\">Useful Environment Variables</font></summary>\n",
    "\n",
    "```python\n",
    "import os\n",
    "print(os.environ[\"NB_SESSION_COMPARTMENT_OCID\"])\n",
    "print(os.environ[\"PROJECT_OCID\"])\n",
    "print(os.environ[\"USER_OCID\"])\n",
    "print(os.environ[\"TENANCY_OCID\"])\n",
    "print(os.environ[\"NB_REGION\"])\n",
    "```\n",
    "</details>"
   ]
  },
  {
   "cell_type": "code",
   "execution_count": 1,
   "id": "a9a8194a",
   "metadata": {},
   "outputs": [],
   "source": [
    "# import libraries\n",
    "import pandas as pd\n",
    "import ads\n",
    "from ads.dataset.factory import DatasetFactory"
   ]
  },
  {
   "cell_type": "code",
   "execution_count": 2,
   "id": "7b8ef7e1",
   "metadata": {},
   "outputs": [],
   "source": [
    "# set up a dictionary containing credentials required for the ADW connection\n",
    "conn = {\n",
    "        \"user_name\": \"admin\",\n",
    "        \"password\": \"Welcome#1234\",\n",
    "        \"service_name\": \"adwck1_high\", # the service levels can be found in <ADW wallet folder>/tnsnames.ora as one of the variable names to which the connection string value is assigned\n",
    "        \"wallet_location\": \"/home/datascience/Wallet_adwck.zip\",\n",
    "    }\n"
   ]
  },
  {
   "cell_type": "code",
   "execution_count": 3,
   "id": "05b58550",
   "metadata": {},
   "outputs": [],
   "source": [
    "list_of_tables =[ 'rap_table','allergy_features','careplan_features1','claim_features1','claim_features2','claim_features3','conditions_features','devices_features','immunization_features1','medications_features1','patients_tmp1','procedures_features1','encounters_6mo1','encounters_1yr1',]"
   ]
  },
  {
   "cell_type": "code",
   "execution_count": 4,
   "id": "ef8bef58",
   "metadata": {},
   "outputs": [
    {
     "name": "stdout",
     "output_type": "stream",
     "text": [
      "---table ...   rap_table\n",
      "---table ...   allergy_features\n",
      "---table ...   careplan_features1\n",
      "---table ...   claim_features1\n",
      "---table ...   claim_features2\n",
      "---table ...   claim_features3\n",
      "---table ...   conditions_features\n",
      "---table ...   devices_features\n",
      "---table ...   immunization_features1\n",
      "---table ...   medications_features1\n",
      "---table ...   patients_tmp1\n",
      "---table ...   procedures_features1\n",
      "---table ...   encounters_6mo1\n",
      "---table ...   encounters_1yr1\n"
     ]
    }
   ],
   "source": [
    "# import dataset from Autonomous Data Warehouse (ADW)\n",
    "for tab in list_of_tables:\n",
    "    print(\"---table ...  \",tab)\n",
    "    df = pd.DataFrame.ads.read_sql('select * from admin.'+tab, connection_parameters=conn)\n",
    "    df.to_csv(\"../feature_csvs/\"+tab+\".csv\",index=False)"
   ]
  },
  {
   "cell_type": "markdown",
   "id": "362f0536",
   "metadata": {},
   "source": [
    "## Read rap table"
   ]
  },
  {
   "cell_type": "code",
   "execution_count": 5,
   "id": "a9e7995d",
   "metadata": {},
   "outputs": [],
   "source": [
    "sample_table = pd.read_csv(\"../feature_csvs/rap_table.csv\")"
   ]
  },
  {
   "cell_type": "code",
   "execution_count": 6,
   "id": "b50ac1cc",
   "metadata": {},
   "outputs": [
    {
     "data": {
      "text/plain": [
       "N    23007\n",
       "Y     3589\n",
       "Name: READMISSION, dtype: int64"
      ]
     },
     "execution_count": 6,
     "metadata": {},
     "output_type": "execute_result"
    }
   ],
   "source": [
    "sample_table.READMISSION.value_counts()"
   ]
  },
  {
   "cell_type": "markdown",
   "id": "3a58f55a",
   "metadata": {},
   "source": [
    "## Read Allergy features"
   ]
  },
  {
   "cell_type": "code",
   "execution_count": 7,
   "id": "c6f4a54b",
   "metadata": {},
   "outputs": [],
   "source": [
    "allergy = pd.read_csv(\"../feature_csvs/allergy_features.csv\")"
   ]
  },
  {
   "cell_type": "code",
   "execution_count": 8,
   "id": "3d6ec70c",
   "metadata": {},
   "outputs": [
    {
     "data": {
      "text/html": [
       "<div>\n",
       "<style scoped>\n",
       "    .dataframe tbody tr th:only-of-type {\n",
       "        vertical-align: middle;\n",
       "    }\n",
       "\n",
       "    .dataframe tbody tr th {\n",
       "        vertical-align: top;\n",
       "    }\n",
       "\n",
       "    .dataframe thead th {\n",
       "        text-align: right;\n",
       "    }\n",
       "</style>\n",
       "<table border=\"1\" class=\"dataframe\">\n",
       "  <thead>\n",
       "    <tr style=\"text-align: right;\">\n",
       "      <th></th>\n",
       "      <th>PATIENT</th>\n",
       "      <th>CODE_NEW</th>\n",
       "      <th>DESCRIPTION_NEW</th>\n",
       "      <th>DESCRIPTION1</th>\n",
       "      <th>DESCRIPTION2</th>\n",
       "    </tr>\n",
       "  </thead>\n",
       "  <tbody>\n",
       "    <tr>\n",
       "      <th>0</th>\n",
       "      <td>4728942a-94dc-dcd6-3627-9fa8dc717464</td>\n",
       "      <td>412071004</td>\n",
       "      <td>Wheat (substance)</td>\n",
       "      <td>NaN</td>\n",
       "      <td>NaN</td>\n",
       "    </tr>\n",
       "    <tr>\n",
       "      <th>1</th>\n",
       "      <td>64c23f1f-b5f2-14fe-b452-f0aaebb61b39</td>\n",
       "      <td>412071004</td>\n",
       "      <td>Wheat (substance)</td>\n",
       "      <td>NaN</td>\n",
       "      <td>NaN</td>\n",
       "    </tr>\n",
       "    <tr>\n",
       "      <th>2</th>\n",
       "      <td>5e856998-8bd2-23e9-2674-b8c5f457c410</td>\n",
       "      <td>84489001</td>\n",
       "      <td>Mold (organism)</td>\n",
       "      <td>Allergic skin rash</td>\n",
       "      <td>Sneezing</td>\n",
       "    </tr>\n",
       "    <tr>\n",
       "      <th>3</th>\n",
       "      <td>5e856998-8bd2-23e9-2674-b8c5f457c410</td>\n",
       "      <td>260147004</td>\n",
       "      <td>House dust mite (organism)</td>\n",
       "      <td>NaN</td>\n",
       "      <td>NaN</td>\n",
       "    </tr>\n",
       "    <tr>\n",
       "      <th>4</th>\n",
       "      <td>5e856998-8bd2-23e9-2674-b8c5f457c410</td>\n",
       "      <td>264287008</td>\n",
       "      <td>Animal dander (substance)</td>\n",
       "      <td>Rhinoconjunctivitis (disorder)</td>\n",
       "      <td>NaN</td>\n",
       "    </tr>\n",
       "  </tbody>\n",
       "</table>\n",
       "</div>"
      ],
      "text/plain": [
       "                                PATIENT   CODE_NEW  \\\n",
       "0  4728942a-94dc-dcd6-3627-9fa8dc717464  412071004   \n",
       "1  64c23f1f-b5f2-14fe-b452-f0aaebb61b39  412071004   \n",
       "2  5e856998-8bd2-23e9-2674-b8c5f457c410   84489001   \n",
       "3  5e856998-8bd2-23e9-2674-b8c5f457c410  260147004   \n",
       "4  5e856998-8bd2-23e9-2674-b8c5f457c410  264287008   \n",
       "\n",
       "              DESCRIPTION_NEW                    DESCRIPTION1 DESCRIPTION2  \n",
       "0           Wheat (substance)                             NaN          NaN  \n",
       "1           Wheat (substance)                             NaN          NaN  \n",
       "2             Mold (organism)              Allergic skin rash     Sneezing  \n",
       "3  House dust mite (organism)                             NaN          NaN  \n",
       "4   Animal dander (substance)  Rhinoconjunctivitis (disorder)          NaN  "
      ]
     },
     "execution_count": 8,
     "metadata": {},
     "output_type": "execute_result"
    }
   ],
   "source": [
    "allergy.head()"
   ]
  },
  {
   "cell_type": "code",
   "execution_count": 9,
   "id": "6fabc634",
   "metadata": {},
   "outputs": [],
   "source": [
    "tmp1=allergy[['PATIENT','CODE_NEW']].pivot_table(index=[\"PATIENT\"], columns=\"CODE_NEW\", aggfunc=lambda x: 1, fill_value=0).reset_index()"
   ]
  },
  {
   "cell_type": "code",
   "execution_count": 10,
   "id": "a7a5f6ac",
   "metadata": {},
   "outputs": [
    {
     "data": {
      "text/plain": [
       "Index([      'PATIENT',            1191,            5640,            7984,\n",
       "                 10831,           25037,           29046,         3718001,\n",
       "              84489001,       102263004,       111088007,       256277009,\n",
       "             256355007,       260147004,       264287008,       288328004,\n",
       "             412071004,       735029006,       735971005,       762952008,\n",
       "             782576004, 442571000124108],\n",
       "      dtype='object', name='CODE_NEW')"
      ]
     },
     "execution_count": 10,
     "metadata": {},
     "output_type": "execute_result"
    }
   ],
   "source": [
    "tmp1.columns"
   ]
  },
  {
   "cell_type": "code",
   "execution_count": 11,
   "id": "92fd26df",
   "metadata": {},
   "outputs": [],
   "source": [
    "tmp1.columns=['PATIENT']+['allergy_'+str(col) for col in tmp1.columns if col!='PATIENT']"
   ]
  },
  {
   "cell_type": "code",
   "execution_count": 12,
   "id": "cb24dc6e",
   "metadata": {},
   "outputs": [
    {
     "data": {
      "text/html": [
       "<div>\n",
       "<style scoped>\n",
       "    .dataframe tbody tr th:only-of-type {\n",
       "        vertical-align: middle;\n",
       "    }\n",
       "\n",
       "    .dataframe tbody tr th {\n",
       "        vertical-align: top;\n",
       "    }\n",
       "\n",
       "    .dataframe thead th {\n",
       "        text-align: right;\n",
       "    }\n",
       "</style>\n",
       "<table border=\"1\" class=\"dataframe\">\n",
       "  <thead>\n",
       "    <tr style=\"text-align: right;\">\n",
       "      <th></th>\n",
       "      <th>PATIENT</th>\n",
       "      <th>START_NEW</th>\n",
       "      <th>STOP</th>\n",
       "      <th>INP_DURATION</th>\n",
       "      <th>READMISSION</th>\n",
       "    </tr>\n",
       "  </thead>\n",
       "  <tbody>\n",
       "    <tr>\n",
       "      <th>0</th>\n",
       "      <td>0360958b-500a-8b24-07dc-c6ec34186b7e</td>\n",
       "      <td>1914-10-28 00:56:04</td>\n",
       "      <td>1914-10-31 11:54:54</td>\n",
       "      <td>3.457523</td>\n",
       "      <td>N</td>\n",
       "    </tr>\n",
       "    <tr>\n",
       "      <th>1</th>\n",
       "      <td>56d5a077-96c5-a053-a55c-292484e5fd67</td>\n",
       "      <td>1920-01-12 14:49:07</td>\n",
       "      <td>1920-01-16 21:54:25</td>\n",
       "      <td>4.295347</td>\n",
       "      <td>N</td>\n",
       "    </tr>\n",
       "    <tr>\n",
       "      <th>2</th>\n",
       "      <td>11a9315b-b71a-d87e-56cf-4ffb471b2523</td>\n",
       "      <td>1920-12-17 21:23:30</td>\n",
       "      <td>1920-12-22 18:32:16</td>\n",
       "      <td>4.881088</td>\n",
       "      <td>N</td>\n",
       "    </tr>\n",
       "    <tr>\n",
       "      <th>3</th>\n",
       "      <td>223aa945-f14b-6006-7e7e-98ba1fb22cb6</td>\n",
       "      <td>1921-05-31 06:44:06</td>\n",
       "      <td>1921-06-04 07:43:45</td>\n",
       "      <td>4.041424</td>\n",
       "      <td>N</td>\n",
       "    </tr>\n",
       "    <tr>\n",
       "      <th>4</th>\n",
       "      <td>01318a0b-4cbb-3467-9605-dc8aeb7df935</td>\n",
       "      <td>1921-06-03 02:17:03</td>\n",
       "      <td>1921-06-04 22:58:48</td>\n",
       "      <td>1.862326</td>\n",
       "      <td>N</td>\n",
       "    </tr>\n",
       "  </tbody>\n",
       "</table>\n",
       "</div>"
      ],
      "text/plain": [
       "                                PATIENT            START_NEW  \\\n",
       "0  0360958b-500a-8b24-07dc-c6ec34186b7e  1914-10-28 00:56:04   \n",
       "1  56d5a077-96c5-a053-a55c-292484e5fd67  1920-01-12 14:49:07   \n",
       "2  11a9315b-b71a-d87e-56cf-4ffb471b2523  1920-12-17 21:23:30   \n",
       "3  223aa945-f14b-6006-7e7e-98ba1fb22cb6  1921-05-31 06:44:06   \n",
       "4  01318a0b-4cbb-3467-9605-dc8aeb7df935  1921-06-03 02:17:03   \n",
       "\n",
       "                  STOP  INP_DURATION READMISSION  \n",
       "0  1914-10-31 11:54:54      3.457523           N  \n",
       "1  1920-01-16 21:54:25      4.295347           N  \n",
       "2  1920-12-22 18:32:16      4.881088           N  \n",
       "3  1921-06-04 07:43:45      4.041424           N  \n",
       "4  1921-06-04 22:58:48      1.862326           N  "
      ]
     },
     "execution_count": 12,
     "metadata": {},
     "output_type": "execute_result"
    }
   ],
   "source": [
    "sample_table.head()"
   ]
  },
  {
   "cell_type": "code",
   "execution_count": 13,
   "id": "329c7f4a",
   "metadata": {},
   "outputs": [],
   "source": [
    "tmp2 = pd.merge(sample_table, tmp1, on =['PATIENT'], how='left')"
   ]
  },
  {
   "cell_type": "markdown",
   "id": "7f0191b8",
   "metadata": {},
   "source": [
    "## Read Care Plan features"
   ]
  },
  {
   "cell_type": "code",
   "execution_count": 14,
   "id": "445ff3b4",
   "metadata": {},
   "outputs": [],
   "source": [
    "careplan = pd.read_csv(\"../feature_csvs/careplan_features1.csv\")"
   ]
  },
  {
   "cell_type": "code",
   "execution_count": 15,
   "id": "b4cfff60",
   "metadata": {},
   "outputs": [
    {
     "data": {
      "text/html": [
       "<div>\n",
       "<style scoped>\n",
       "    .dataframe tbody tr th:only-of-type {\n",
       "        vertical-align: middle;\n",
       "    }\n",
       "\n",
       "    .dataframe tbody tr th {\n",
       "        vertical-align: top;\n",
       "    }\n",
       "\n",
       "    .dataframe thead th {\n",
       "        text-align: right;\n",
       "    }\n",
       "</style>\n",
       "<table border=\"1\" class=\"dataframe\">\n",
       "  <thead>\n",
       "    <tr style=\"text-align: right;\">\n",
       "      <th></th>\n",
       "      <th>PATIENT</th>\n",
       "      <th>CODE_NEW</th>\n",
       "      <th>CAREPLAN_CNT</th>\n",
       "    </tr>\n",
       "  </thead>\n",
       "  <tbody>\n",
       "    <tr>\n",
       "      <th>0</th>\n",
       "      <td>00002142-ea7b-b4a6-8427-69d5d9804e97</td>\n",
       "      <td>736353004</td>\n",
       "      <td>2</td>\n",
       "    </tr>\n",
       "    <tr>\n",
       "      <th>1</th>\n",
       "      <td>000475c5-6d1f-c2af-9324-f51afef719b7</td>\n",
       "      <td>737471002</td>\n",
       "      <td>1</td>\n",
       "    </tr>\n",
       "    <tr>\n",
       "      <th>2</th>\n",
       "      <td>00086d10-d97d-7062-1a93-27ae02b8e972</td>\n",
       "      <td>735984001</td>\n",
       "      <td>1</td>\n",
       "    </tr>\n",
       "    <tr>\n",
       "      <th>3</th>\n",
       "      <td>00086d10-d97d-7062-1a93-27ae02b8e972</td>\n",
       "      <td>736353004</td>\n",
       "      <td>1</td>\n",
       "    </tr>\n",
       "    <tr>\n",
       "      <th>4</th>\n",
       "      <td>0008934e-2eea-cba9-b210-55c3d794b272</td>\n",
       "      <td>134435003</td>\n",
       "      <td>1</td>\n",
       "    </tr>\n",
       "  </tbody>\n",
       "</table>\n",
       "</div>"
      ],
      "text/plain": [
       "                                PATIENT   CODE_NEW  CAREPLAN_CNT\n",
       "0  00002142-ea7b-b4a6-8427-69d5d9804e97  736353004             2\n",
       "1  000475c5-6d1f-c2af-9324-f51afef719b7  737471002             1\n",
       "2  00086d10-d97d-7062-1a93-27ae02b8e972  735984001             1\n",
       "3  00086d10-d97d-7062-1a93-27ae02b8e972  736353004             1\n",
       "4  0008934e-2eea-cba9-b210-55c3d794b272  134435003             1"
      ]
     },
     "execution_count": 15,
     "metadata": {},
     "output_type": "execute_result"
    }
   ],
   "source": [
    "careplan.head()"
   ]
  },
  {
   "cell_type": "code",
   "execution_count": 16,
   "id": "b07f2e90",
   "metadata": {},
   "outputs": [],
   "source": [
    "import numpy as np\n",
    "tmp3=careplan.pivot_table(index=[\"PATIENT\"], columns=\"CODE_NEW\",values='CAREPLAN_CNT',aggfunc=np.sum, fill_value=0).reset_index()"
   ]
  },
  {
   "cell_type": "code",
   "execution_count": 17,
   "id": "7987ff1b",
   "metadata": {},
   "outputs": [],
   "source": [
    "tmp3.columns=['PATIENT']+['careplan_'+str(col) for col in tmp3.columns if col!='PATIENT']"
   ]
  },
  {
   "cell_type": "code",
   "execution_count": 18,
   "id": "2bc0fa1b",
   "metadata": {},
   "outputs": [],
   "source": [
    "tmp4 = pd.merge(tmp2, tmp3, on =['PATIENT'], how='left')"
   ]
  },
  {
   "cell_type": "markdown",
   "id": "3a84e006",
   "metadata": {},
   "source": [
    "## Read Claim_Features1 "
   ]
  },
  {
   "cell_type": "code",
   "execution_count": 19,
   "id": "fe842497",
   "metadata": {},
   "outputs": [],
   "source": [
    "diagnosis1 = pd.read_csv(\"../feature_csvs/claim_features1.csv\")"
   ]
  },
  {
   "cell_type": "code",
   "execution_count": 20,
   "id": "db2bc2f0",
   "metadata": {},
   "outputs": [
    {
     "data": {
      "text/html": [
       "<div>\n",
       "<style scoped>\n",
       "    .dataframe tbody tr th:only-of-type {\n",
       "        vertical-align: middle;\n",
       "    }\n",
       "\n",
       "    .dataframe tbody tr th {\n",
       "        vertical-align: top;\n",
       "    }\n",
       "\n",
       "    .dataframe thead th {\n",
       "        text-align: right;\n",
       "    }\n",
       "</style>\n",
       "<table border=\"1\" class=\"dataframe\">\n",
       "  <thead>\n",
       "    <tr style=\"text-align: right;\">\n",
       "      <th></th>\n",
       "      <th>PATIENT</th>\n",
       "      <th>DIAGNOSIS1</th>\n",
       "      <th>DIAGNOSIS1_CNT</th>\n",
       "    </tr>\n",
       "  </thead>\n",
       "  <tbody>\n",
       "    <tr>\n",
       "      <th>0</th>\n",
       "      <td>00002142-ea7b-b4a6-8427-69d5d9804e97</td>\n",
       "      <td>160903007</td>\n",
       "      <td>1</td>\n",
       "    </tr>\n",
       "    <tr>\n",
       "      <th>1</th>\n",
       "      <td>000475c5-6d1f-c2af-9324-f51afef719b7</td>\n",
       "      <td>698314001</td>\n",
       "      <td>1</td>\n",
       "    </tr>\n",
       "    <tr>\n",
       "      <th>2</th>\n",
       "      <td>00071b57-6e95-fcc4-8450-e8f1c78bc297</td>\n",
       "      <td>224299000</td>\n",
       "      <td>1</td>\n",
       "    </tr>\n",
       "    <tr>\n",
       "      <th>3</th>\n",
       "      <td>00086d10-d97d-7062-1a93-27ae02b8e972</td>\n",
       "      <td>88805009</td>\n",
       "      <td>3</td>\n",
       "    </tr>\n",
       "    <tr>\n",
       "      <th>4</th>\n",
       "      <td>000edd71-0f16-a819-8c74-c1a9ef7e5773</td>\n",
       "      <td>10509002</td>\n",
       "      <td>1</td>\n",
       "    </tr>\n",
       "  </tbody>\n",
       "</table>\n",
       "</div>"
      ],
      "text/plain": [
       "                                PATIENT  DIAGNOSIS1  DIAGNOSIS1_CNT\n",
       "0  00002142-ea7b-b4a6-8427-69d5d9804e97   160903007               1\n",
       "1  000475c5-6d1f-c2af-9324-f51afef719b7   698314001               1\n",
       "2  00071b57-6e95-fcc4-8450-e8f1c78bc297   224299000               1\n",
       "3  00086d10-d97d-7062-1a93-27ae02b8e972    88805009               3\n",
       "4  000edd71-0f16-a819-8c74-c1a9ef7e5773    10509002               1"
      ]
     },
     "execution_count": 20,
     "metadata": {},
     "output_type": "execute_result"
    }
   ],
   "source": [
    "diagnosis1.head()"
   ]
  },
  {
   "cell_type": "code",
   "execution_count": 21,
   "id": "b1dc5118",
   "metadata": {},
   "outputs": [],
   "source": [
    "tmp6=diagnosis1.pivot_table(index=[\"PATIENT\"], columns=\"DIAGNOSIS1\",values='DIAGNOSIS1_CNT',aggfunc=np.sum, fill_value=0).reset_index()\n",
    "tmp6.columns=['PATIENT']+['diagnosis1_'+str(col) for col in tmp6.columns if col!='PATIENT']"
   ]
  },
  {
   "cell_type": "code",
   "execution_count": 22,
   "id": "1114728d",
   "metadata": {},
   "outputs": [],
   "source": [
    "diagnosis2 = pd.read_csv(\"../feature_csvs/claim_features2.csv\")\n",
    "tmp7=diagnosis2.pivot_table(index=[\"PATIENT\"], columns=\"DIAGNOSIS2\",values='DIAGNOSIS2_CNT',aggfunc=np.sum, fill_value=0).reset_index()\n",
    "tmp7.columns=['PATIENT']+['diagnosis2_'+str(col) for col in tmp7.columns if col!='PATIENT']\n",
    "\n",
    "diagnosis3 = pd.read_csv(\"../feature_csvs/claim_features3.csv\")\n",
    "tmp8=diagnosis3.pivot_table(index=[\"PATIENT\"], columns=\"DIAGNOSIS3\",values='DIAGNOSIS3_CNT',aggfunc=np.sum, fill_value=0).reset_index()\n",
    "tmp8.columns=['PATIENT']+['diagnosis3_'+str(col) for col in tmp8.columns if col!='PATIENT']"
   ]
  },
  {
   "cell_type": "code",
   "execution_count": 23,
   "id": "8c731697",
   "metadata": {},
   "outputs": [
    {
     "data": {
      "text/plain": [
       "((26596, 195), (22786, 144), (7125, 81))"
      ]
     },
     "execution_count": 23,
     "metadata": {},
     "output_type": "execute_result"
    }
   ],
   "source": [
    "tmp6.shape, tmp7.shape, tmp8.shape"
   ]
  },
  {
   "cell_type": "code",
   "execution_count": 24,
   "id": "7eb0000d",
   "metadata": {},
   "outputs": [],
   "source": [
    "from functools import reduce\n",
    "tmp9 = reduce(lambda x,y: pd.merge(x,y, on='PATIENT', how='left'), [tmp4, tmp6, tmp7, tmp8])"
   ]
  },
  {
   "cell_type": "markdown",
   "id": "824fe867",
   "metadata": {},
   "source": [
    "## Read Conditions Features"
   ]
  },
  {
   "cell_type": "code",
   "execution_count": 25,
   "id": "5227fe99",
   "metadata": {},
   "outputs": [],
   "source": [
    "conditions = pd.read_csv(\"../feature_csvs/conditions_features.csv\")"
   ]
  },
  {
   "cell_type": "code",
   "execution_count": 26,
   "id": "1f17a30f",
   "metadata": {},
   "outputs": [
    {
     "data": {
      "text/html": [
       "<div>\n",
       "<style scoped>\n",
       "    .dataframe tbody tr th:only-of-type {\n",
       "        vertical-align: middle;\n",
       "    }\n",
       "\n",
       "    .dataframe tbody tr th {\n",
       "        vertical-align: top;\n",
       "    }\n",
       "\n",
       "    .dataframe thead th {\n",
       "        text-align: right;\n",
       "    }\n",
       "</style>\n",
       "<table border=\"1\" class=\"dataframe\">\n",
       "  <thead>\n",
       "    <tr style=\"text-align: right;\">\n",
       "      <th></th>\n",
       "      <th>PATIENT</th>\n",
       "      <th>CODE1</th>\n",
       "      <th>DESCRIPTION1</th>\n",
       "    </tr>\n",
       "  </thead>\n",
       "  <tbody>\n",
       "    <tr>\n",
       "      <th>0</th>\n",
       "      <td>22222390-353f-b885-8c5a-61b0ce74f2cd</td>\n",
       "      <td>162864005</td>\n",
       "      <td>Body mass index 30+ - obesity (finding)</td>\n",
       "    </tr>\n",
       "    <tr>\n",
       "      <th>1</th>\n",
       "      <td>22222390-353f-b885-8c5a-61b0ce74f2cd</td>\n",
       "      <td>424132000</td>\n",
       "      <td>Non-small cell carcinoma of lung  TNM stage 1 (disorder)</td>\n",
       "    </tr>\n",
       "    <tr>\n",
       "      <th>2</th>\n",
       "      <td>5004fa7a-d4d7-b295-7ae7-989010de09c2</td>\n",
       "      <td>15777000</td>\n",
       "      <td>Prediabetes</td>\n",
       "    </tr>\n",
       "    <tr>\n",
       "      <th>3</th>\n",
       "      <td>1fd75137-b477-583d-0a0d-875d28674625</td>\n",
       "      <td>423315002</td>\n",
       "      <td>Limited social contact (finding)</td>\n",
       "    </tr>\n",
       "    <tr>\n",
       "      <th>4</th>\n",
       "      <td>b4f41dbf-b8d3-f3c0-1cbd-799523bea1d7</td>\n",
       "      <td>230690007</td>\n",
       "      <td>Stroke</td>\n",
       "    </tr>\n",
       "  </tbody>\n",
       "</table>\n",
       "</div>"
      ],
      "text/plain": [
       "                                PATIENT      CODE1  \\\n",
       "0  22222390-353f-b885-8c5a-61b0ce74f2cd  162864005   \n",
       "1  22222390-353f-b885-8c5a-61b0ce74f2cd  424132000   \n",
       "2  5004fa7a-d4d7-b295-7ae7-989010de09c2   15777000   \n",
       "3  1fd75137-b477-583d-0a0d-875d28674625  423315002   \n",
       "4  b4f41dbf-b8d3-f3c0-1cbd-799523bea1d7  230690007   \n",
       "\n",
       "                                               DESCRIPTION1  \n",
       "0                   Body mass index 30+ - obesity (finding)  \n",
       "1  Non-small cell carcinoma of lung  TNM stage 1 (disorder)  \n",
       "2                                               Prediabetes  \n",
       "3                          Limited social contact (finding)  \n",
       "4                                                    Stroke  "
      ]
     },
     "execution_count": 26,
     "metadata": {},
     "output_type": "execute_result"
    }
   ],
   "source": [
    "conditions.head()"
   ]
  },
  {
   "cell_type": "code",
   "execution_count": 27,
   "id": "97f99f90",
   "metadata": {},
   "outputs": [],
   "source": [
    "tmp10=conditions[['PATIENT','CODE1']].pivot_table(index=[\"PATIENT\"], columns=\"CODE1\", aggfunc=lambda x: 1, fill_value=0).reset_index()\n",
    "tmp10.columns=['PATIENT']+['Condition_'+str(col) for col in tmp10.columns if col!='PATIENT']\n",
    "tmp11 = reduce(lambda x,y: pd.merge(x,y, on='PATIENT', how='left'), [tmp9, tmp10])"
   ]
  },
  {
   "cell_type": "markdown",
   "id": "6f50cbab",
   "metadata": {},
   "source": [
    "## Devices Features"
   ]
  },
  {
   "cell_type": "code",
   "execution_count": 28,
   "id": "e2a533ce",
   "metadata": {},
   "outputs": [],
   "source": [
    "Devices = pd.read_csv(\"../feature_csvs/devices_features.csv\")"
   ]
  },
  {
   "cell_type": "code",
   "execution_count": 29,
   "id": "a9e75df1",
   "metadata": {},
   "outputs": [
    {
     "data": {
      "text/html": [
       "<div>\n",
       "<style scoped>\n",
       "    .dataframe tbody tr th:only-of-type {\n",
       "        vertical-align: middle;\n",
       "    }\n",
       "\n",
       "    .dataframe tbody tr th {\n",
       "        vertical-align: top;\n",
       "    }\n",
       "\n",
       "    .dataframe thead th {\n",
       "        text-align: right;\n",
       "    }\n",
       "</style>\n",
       "<table border=\"1\" class=\"dataframe\">\n",
       "  <thead>\n",
       "    <tr style=\"text-align: right;\">\n",
       "      <th></th>\n",
       "      <th>PATIENT</th>\n",
       "      <th>CODE</th>\n",
       "      <th>DESCRIPTION</th>\n",
       "    </tr>\n",
       "  </thead>\n",
       "  <tbody>\n",
       "    <tr>\n",
       "      <th>0</th>\n",
       "      <td>00002142-ea7b-b4a6-8427-69d5d9804e97</td>\n",
       "      <td>337414009</td>\n",
       "      <td>Blood glucose meter (physical object)</td>\n",
       "    </tr>\n",
       "    <tr>\n",
       "      <th>1</th>\n",
       "      <td>00086d10-d97d-7062-1a93-27ae02b8e972</td>\n",
       "      <td>170615005</td>\n",
       "      <td>Home nebulizer (physical object)</td>\n",
       "    </tr>\n",
       "    <tr>\n",
       "      <th>2</th>\n",
       "      <td>000edd71-0f16-a819-8c74-c1a9ef7e5773</td>\n",
       "      <td>170615005</td>\n",
       "      <td>Home nebulizer (physical object)</td>\n",
       "    </tr>\n",
       "    <tr>\n",
       "      <th>3</th>\n",
       "      <td>000edd71-0f16-a819-8c74-c1a9ef7e5773</td>\n",
       "      <td>337414009</td>\n",
       "      <td>Blood glucose meter (physical object)</td>\n",
       "    </tr>\n",
       "    <tr>\n",
       "      <th>4</th>\n",
       "      <td>00165064-8b0e-546b-398d-5c9ec64aee13</td>\n",
       "      <td>706004007</td>\n",
       "      <td>Implantable cardiac pacemaker (physical object)</td>\n",
       "    </tr>\n",
       "  </tbody>\n",
       "</table>\n",
       "</div>"
      ],
      "text/plain": [
       "                                PATIENT       CODE  \\\n",
       "0  00002142-ea7b-b4a6-8427-69d5d9804e97  337414009   \n",
       "1  00086d10-d97d-7062-1a93-27ae02b8e972  170615005   \n",
       "2  000edd71-0f16-a819-8c74-c1a9ef7e5773  170615005   \n",
       "3  000edd71-0f16-a819-8c74-c1a9ef7e5773  337414009   \n",
       "4  00165064-8b0e-546b-398d-5c9ec64aee13  706004007   \n",
       "\n",
       "                                       DESCRIPTION  \n",
       "0            Blood glucose meter (physical object)  \n",
       "1                 Home nebulizer (physical object)  \n",
       "2                 Home nebulizer (physical object)  \n",
       "3            Blood glucose meter (physical object)  \n",
       "4  Implantable cardiac pacemaker (physical object)  "
      ]
     },
     "execution_count": 29,
     "metadata": {},
     "output_type": "execute_result"
    }
   ],
   "source": [
    "Devices.head()"
   ]
  },
  {
   "cell_type": "code",
   "execution_count": 35,
   "id": "e1aa28c8",
   "metadata": {},
   "outputs": [],
   "source": [
    "# tmp12=Devices[['PATIENT','CODE_NEW']].pivot_table(index=[\"PATIENT\"], columns=\"CODE_NEW\", aggfunc=lambda x: 1, fill_value=0).reset_index()\n",
    "tmp12=Devices[['PATIENT','CODE']].pivot_table(index=[\"PATIENT\"], columns=\"CODE\", aggfunc=len, fill_value=0).reset_index()\n"
   ]
  },
  {
   "cell_type": "code",
   "execution_count": 36,
   "id": "8aff0976",
   "metadata": {},
   "outputs": [],
   "source": [
    "tmp12.columns=['PATIENT']+['Devices_'+str(col) for col in tmp12.columns if col!='PATIENT']\n",
    "tmp13 = reduce(lambda x,y: pd.merge(x,y, on='PATIENT', how='left'), [tmp11, tmp12])"
   ]
  },
  {
   "cell_type": "markdown",
   "id": "082642ae",
   "metadata": {},
   "source": [
    "# Encounters Features"
   ]
  },
  {
   "cell_type": "code",
   "execution_count": 37,
   "id": "6d53f06a",
   "metadata": {},
   "outputs": [],
   "source": [
    "Encounter_1yr = pd.read_csv(\"../feature_csvs/encounters_1yr1.csv\")"
   ]
  },
  {
   "cell_type": "code",
   "execution_count": 38,
   "id": "8a941bcc",
   "metadata": {},
   "outputs": [
    {
     "data": {
      "text/html": [
       "<div>\n",
       "<style scoped>\n",
       "    .dataframe tbody tr th:only-of-type {\n",
       "        vertical-align: middle;\n",
       "    }\n",
       "\n",
       "    .dataframe tbody tr th {\n",
       "        vertical-align: top;\n",
       "    }\n",
       "\n",
       "    .dataframe thead th {\n",
       "        text-align: right;\n",
       "    }\n",
       "</style>\n",
       "<table border=\"1\" class=\"dataframe\">\n",
       "  <thead>\n",
       "    <tr style=\"text-align: right;\">\n",
       "      <th></th>\n",
       "      <th>PATIENT</th>\n",
       "      <th>CODE</th>\n",
       "      <th>ENCOUNTER_CNT</th>\n",
       "    </tr>\n",
       "  </thead>\n",
       "  <tbody>\n",
       "    <tr>\n",
       "      <th>0</th>\n",
       "      <td>000475c5-6d1f-c2af-9324-f51afef719b7</td>\n",
       "      <td>698314001</td>\n",
       "      <td>1</td>\n",
       "    </tr>\n",
       "    <tr>\n",
       "      <th>1</th>\n",
       "      <td>00071b57-6e95-fcc4-8450-e8f1c78bc297</td>\n",
       "      <td>50849002</td>\n",
       "      <td>1</td>\n",
       "    </tr>\n",
       "    <tr>\n",
       "      <th>2</th>\n",
       "      <td>00071b57-6e95-fcc4-8450-e8f1c78bc297</td>\n",
       "      <td>162673000</td>\n",
       "      <td>1</td>\n",
       "    </tr>\n",
       "    <tr>\n",
       "      <th>3</th>\n",
       "      <td>00086d10-d97d-7062-1a93-27ae02b8e972</td>\n",
       "      <td>185347001</td>\n",
       "      <td>3</td>\n",
       "    </tr>\n",
       "    <tr>\n",
       "      <th>4</th>\n",
       "      <td>000edd71-0f16-a819-8c74-c1a9ef7e5773</td>\n",
       "      <td>50849002</td>\n",
       "      <td>1</td>\n",
       "    </tr>\n",
       "  </tbody>\n",
       "</table>\n",
       "</div>"
      ],
      "text/plain": [
       "                                PATIENT       CODE  ENCOUNTER_CNT\n",
       "0  000475c5-6d1f-c2af-9324-f51afef719b7  698314001              1\n",
       "1  00071b57-6e95-fcc4-8450-e8f1c78bc297   50849002              1\n",
       "2  00071b57-6e95-fcc4-8450-e8f1c78bc297  162673000              1\n",
       "3  00086d10-d97d-7062-1a93-27ae02b8e972  185347001              3\n",
       "4  000edd71-0f16-a819-8c74-c1a9ef7e5773   50849002              1"
      ]
     },
     "execution_count": 38,
     "metadata": {},
     "output_type": "execute_result"
    }
   ],
   "source": [
    "Encounter_1yr.head()"
   ]
  },
  {
   "cell_type": "code",
   "execution_count": 39,
   "id": "d0621319",
   "metadata": {},
   "outputs": [],
   "source": [
    "tmp14=Encounter_1yr.pivot_table(index=[\"PATIENT\"], columns=\"CODE\", values='ENCOUNTER_CNT', aggfunc=np.sum, fill_value=0).reset_index()\n",
    "tmp14.columns=['PATIENT']+['Encounter_1yr_'+str(col) for col in tmp14.columns if col!='PATIENT']\n",
    "# tmp15 = reduce(lambda x,y: pd.merge(x,y, on='PATIENT', how='left'), [tmp13, tmp14])"
   ]
  },
  {
   "cell_type": "code",
   "execution_count": 40,
   "id": "786dd145",
   "metadata": {},
   "outputs": [],
   "source": [
    "Encounter_6mo = pd.read_csv(\"../feature_csvs/encounters_6mo1.csv\")"
   ]
  },
  {
   "cell_type": "code",
   "execution_count": 41,
   "id": "e7eedd77",
   "metadata": {},
   "outputs": [],
   "source": [
    "tmp15=Encounter_6mo.pivot_table(index=[\"PATIENT\"], columns=\"CODE\", values='ENCOUNTER_CNT', aggfunc=np.sum, fill_value=0).reset_index()\n",
    "tmp15.columns=['PATIENT']+['Encounter_6mo_'+str(col) for col in tmp15.columns if col!='PATIENT']\n",
    "tmp16 = reduce(lambda x,y: pd.merge(x,y, on='PATIENT', how='left'), [tmp13, tmp14,tmp15])"
   ]
  },
  {
   "cell_type": "code",
   "execution_count": 42,
   "id": "923e4a5a",
   "metadata": {},
   "outputs": [
    {
     "data": {
      "text/plain": [
       "(26596, 819)"
      ]
     },
     "execution_count": 42,
     "metadata": {},
     "output_type": "execute_result"
    }
   ],
   "source": [
    "tmp16.shape"
   ]
  },
  {
   "cell_type": "markdown",
   "id": "7ffdb725",
   "metadata": {},
   "source": [
    "## Reading Immunizations"
   ]
  },
  {
   "cell_type": "code",
   "execution_count": 44,
   "id": "bfd62ade",
   "metadata": {},
   "outputs": [],
   "source": [
    "Immunizations = pd.read_csv(\"../feature_csvs/immunization_features1.csv\")"
   ]
  },
  {
   "cell_type": "code",
   "execution_count": 45,
   "id": "be7d3fee",
   "metadata": {},
   "outputs": [],
   "source": [
    "tmp17=Immunizations.pivot_table(index=[\"PATIENT\"], columns=\"CODE\", values ='IMMUNIZATIONS_CNT', aggfunc=np.sum, fill_value=0).reset_index()\n",
    "tmp17.columns=['PATIENT']+['Immunizations_'+str(col) for col in tmp17.columns if col!='PATIENT']\n",
    "tmp18 = reduce(lambda x,y: pd.merge(x,y, on='PATIENT', how='left'), [tmp16, tmp17])\n"
   ]
  },
  {
   "cell_type": "markdown",
   "id": "ef00d917",
   "metadata": {},
   "source": [
    "## Reading Medications"
   ]
  },
  {
   "cell_type": "code",
   "execution_count": 46,
   "id": "5cec8c92",
   "metadata": {},
   "outputs": [],
   "source": [
    "Medications = pd.read_csv(\"../feature_csvs/medications_features1.csv\")"
   ]
  },
  {
   "cell_type": "code",
   "execution_count": 47,
   "id": "38b128c5",
   "metadata": {},
   "outputs": [
    {
     "data": {
      "text/html": [
       "<div>\n",
       "<style scoped>\n",
       "    .dataframe tbody tr th:only-of-type {\n",
       "        vertical-align: middle;\n",
       "    }\n",
       "\n",
       "    .dataframe tbody tr th {\n",
       "        vertical-align: top;\n",
       "    }\n",
       "\n",
       "    .dataframe thead th {\n",
       "        text-align: right;\n",
       "    }\n",
       "</style>\n",
       "<table border=\"1\" class=\"dataframe\">\n",
       "  <thead>\n",
       "    <tr style=\"text-align: right;\">\n",
       "      <th></th>\n",
       "      <th>PATIENT</th>\n",
       "      <th>CODE</th>\n",
       "      <th>DISPENSES_CNT</th>\n",
       "    </tr>\n",
       "  </thead>\n",
       "  <tbody>\n",
       "    <tr>\n",
       "      <th>0</th>\n",
       "      <td>00086d10-d97d-7062-1a93-27ae02b8e972</td>\n",
       "      <td>313988</td>\n",
       "      <td>23.315788</td>\n",
       "    </tr>\n",
       "    <tr>\n",
       "      <th>1</th>\n",
       "      <td>000edd71-0f16-a819-8c74-c1a9ef7e5773</td>\n",
       "      <td>2001499</td>\n",
       "      <td>19.810588</td>\n",
       "    </tr>\n",
       "    <tr>\n",
       "      <th>2</th>\n",
       "      <td>001282ec-a1aa-d754-eb96-80f64cea4771</td>\n",
       "      <td>310798</td>\n",
       "      <td>23.676550</td>\n",
       "    </tr>\n",
       "    <tr>\n",
       "      <th>3</th>\n",
       "      <td>001282ec-a1aa-d754-eb96-80f64cea4771</td>\n",
       "      <td>314076</td>\n",
       "      <td>732.000000</td>\n",
       "    </tr>\n",
       "    <tr>\n",
       "      <th>4</th>\n",
       "      <td>001282ec-a1aa-d754-eb96-80f64cea4771</td>\n",
       "      <td>849574</td>\n",
       "      <td>11.934783</td>\n",
       "    </tr>\n",
       "  </tbody>\n",
       "</table>\n",
       "</div>"
      ],
      "text/plain": [
       "                                PATIENT     CODE  DISPENSES_CNT\n",
       "0  00086d10-d97d-7062-1a93-27ae02b8e972   313988      23.315788\n",
       "1  000edd71-0f16-a819-8c74-c1a9ef7e5773  2001499      19.810588\n",
       "2  001282ec-a1aa-d754-eb96-80f64cea4771   310798      23.676550\n",
       "3  001282ec-a1aa-d754-eb96-80f64cea4771   314076     732.000000\n",
       "4  001282ec-a1aa-d754-eb96-80f64cea4771   849574      11.934783"
      ]
     },
     "execution_count": 47,
     "metadata": {},
     "output_type": "execute_result"
    }
   ],
   "source": [
    "Medications.head()"
   ]
  },
  {
   "cell_type": "code",
   "execution_count": 48,
   "id": "f943b546",
   "metadata": {},
   "outputs": [],
   "source": [
    "tmp19=Medications.pivot_table(index=[\"PATIENT\"], columns=\"CODE\", values ='DISPENSES_CNT', aggfunc=np.sum, fill_value=0).reset_index()\n",
    "tmp19.columns=['PATIENT']+['Medications_'+str(col) for col in tmp19.columns if col!='PATIENT']\n",
    "tmp20 = reduce(lambda x,y: pd.merge(x,y, on='PATIENT', how='left'), [tmp18, tmp19])\n"
   ]
  },
  {
   "cell_type": "markdown",
   "id": "77d302d0",
   "metadata": {},
   "source": [
    "## Reading PATIENTS"
   ]
  },
  {
   "cell_type": "code",
   "execution_count": 49,
   "id": "8fcd49ad",
   "metadata": {},
   "outputs": [],
   "source": [
    "Patients = pd.read_csv(\"../feature_csvs/patients_tmp1.csv\")"
   ]
  },
  {
   "cell_type": "code",
   "execution_count": 50,
   "id": "9a69ed08",
   "metadata": {},
   "outputs": [
    {
     "data": {
      "text/html": [
       "<div>\n",
       "<style scoped>\n",
       "    .dataframe tbody tr th:only-of-type {\n",
       "        vertical-align: middle;\n",
       "    }\n",
       "\n",
       "    .dataframe tbody tr th {\n",
       "        vertical-align: top;\n",
       "    }\n",
       "\n",
       "    .dataframe thead th {\n",
       "        text-align: right;\n",
       "    }\n",
       "</style>\n",
       "<table border=\"1\" class=\"dataframe\">\n",
       "  <thead>\n",
       "    <tr style=\"text-align: right;\">\n",
       "      <th></th>\n",
       "      <th>PATIENT</th>\n",
       "      <th>START_NEW</th>\n",
       "      <th>BIRTHDATE</th>\n",
       "      <th>AGE</th>\n",
       "      <th>AGE1</th>\n",
       "      <th>RACE</th>\n",
       "      <th>ETHNICITY</th>\n",
       "      <th>GENDER</th>\n",
       "    </tr>\n",
       "  </thead>\n",
       "  <tbody>\n",
       "    <tr>\n",
       "      <th>0</th>\n",
       "      <td>73663db7-49ea-78fb-f258-229b65b458ed</td>\n",
       "      <td>1967-01-11 16:04:48</td>\n",
       "      <td>1966-12-21 00:00:00</td>\n",
       "      <td>0</td>\n",
       "      <td>21.67</td>\n",
       "      <td>white</td>\n",
       "      <td>nonhispanic</td>\n",
       "      <td>F</td>\n",
       "    </tr>\n",
       "    <tr>\n",
       "      <th>1</th>\n",
       "      <td>8946bdc9-44fe-89a3-58a3-128a501527aa</td>\n",
       "      <td>2020-11-19 22:04:48</td>\n",
       "      <td>2017-12-05 00:00:00</td>\n",
       "      <td>2</td>\n",
       "      <td>1080.92</td>\n",
       "      <td>white</td>\n",
       "      <td>nonhispanic</td>\n",
       "      <td>F</td>\n",
       "    </tr>\n",
       "    <tr>\n",
       "      <th>2</th>\n",
       "      <td>38a4c271-2848-7c9b-68ec-516f9624f728</td>\n",
       "      <td>1981-01-19 23:31:12</td>\n",
       "      <td>1966-12-07 00:00:00</td>\n",
       "      <td>14</td>\n",
       "      <td>5157.98</td>\n",
       "      <td>white</td>\n",
       "      <td>hispanic</td>\n",
       "      <td>F</td>\n",
       "    </tr>\n",
       "    <tr>\n",
       "      <th>3</th>\n",
       "      <td>1587c79f-e68e-cde2-181f-53c2d41d134a</td>\n",
       "      <td>1999-04-20 20:52:48</td>\n",
       "      <td>1985-01-16 00:00:00</td>\n",
       "      <td>14</td>\n",
       "      <td>5207.87</td>\n",
       "      <td>white</td>\n",
       "      <td>nonhispanic</td>\n",
       "      <td>M</td>\n",
       "    </tr>\n",
       "    <tr>\n",
       "      <th>4</th>\n",
       "      <td>f54ecf07-daab-eb39-02a5-b8367f8db8d9</td>\n",
       "      <td>1999-09-17 20:52:48</td>\n",
       "      <td>1985-01-16 00:00:00</td>\n",
       "      <td>14</td>\n",
       "      <td>5357.87</td>\n",
       "      <td>white</td>\n",
       "      <td>nonhispanic</td>\n",
       "      <td>M</td>\n",
       "    </tr>\n",
       "  </tbody>\n",
       "</table>\n",
       "</div>"
      ],
      "text/plain": [
       "                                PATIENT            START_NEW  \\\n",
       "0  73663db7-49ea-78fb-f258-229b65b458ed  1967-01-11 16:04:48   \n",
       "1  8946bdc9-44fe-89a3-58a3-128a501527aa  2020-11-19 22:04:48   \n",
       "2  38a4c271-2848-7c9b-68ec-516f9624f728  1981-01-19 23:31:12   \n",
       "3  1587c79f-e68e-cde2-181f-53c2d41d134a  1999-04-20 20:52:48   \n",
       "4  f54ecf07-daab-eb39-02a5-b8367f8db8d9  1999-09-17 20:52:48   \n",
       "\n",
       "             BIRTHDATE  AGE     AGE1   RACE    ETHNICITY GENDER  \n",
       "0  1966-12-21 00:00:00    0    21.67  white  nonhispanic      F  \n",
       "1  2017-12-05 00:00:00    2  1080.92  white  nonhispanic      F  \n",
       "2  1966-12-07 00:00:00   14  5157.98  white     hispanic      F  \n",
       "3  1985-01-16 00:00:00   14  5207.87  white  nonhispanic      M  \n",
       "4  1985-01-16 00:00:00   14  5357.87  white  nonhispanic      M  "
      ]
     },
     "execution_count": 50,
     "metadata": {},
     "output_type": "execute_result"
    }
   ],
   "source": [
    "Patients.head()"
   ]
  },
  {
   "cell_type": "code",
   "execution_count": 51,
   "id": "48b5452c",
   "metadata": {},
   "outputs": [],
   "source": [
    "tmp21 = reduce(lambda x,y: pd.merge(x,y, on='PATIENT', how='left'), [tmp20, Patients[['PATIENT','AGE','RACE','ETHNICITY','GENDER']]])"
   ]
  },
  {
   "cell_type": "markdown",
   "id": "bd042748",
   "metadata": {},
   "source": [
    "## Reading Procedures"
   ]
  },
  {
   "cell_type": "code",
   "execution_count": 52,
   "id": "57d23bd0",
   "metadata": {},
   "outputs": [],
   "source": [
    "Procedures = pd.read_csv(\"../feature_csvs/procedures_features1.csv\")"
   ]
  },
  {
   "cell_type": "code",
   "execution_count": 53,
   "id": "4bb1052b",
   "metadata": {},
   "outputs": [
    {
     "data": {
      "text/html": [
       "<div>\n",
       "<style scoped>\n",
       "    .dataframe tbody tr th:only-of-type {\n",
       "        vertical-align: middle;\n",
       "    }\n",
       "\n",
       "    .dataframe tbody tr th {\n",
       "        vertical-align: top;\n",
       "    }\n",
       "\n",
       "    .dataframe thead th {\n",
       "        text-align: right;\n",
       "    }\n",
       "</style>\n",
       "<table border=\"1\" class=\"dataframe\">\n",
       "  <thead>\n",
       "    <tr style=\"text-align: right;\">\n",
       "      <th></th>\n",
       "      <th>PATIENT</th>\n",
       "      <th>CODE</th>\n",
       "      <th>PROCEDURES_CNT</th>\n",
       "    </tr>\n",
       "  </thead>\n",
       "  <tbody>\n",
       "    <tr>\n",
       "      <th>0</th>\n",
       "      <td>00002142-ea7b-b4a6-8427-69d5d9804e97</td>\n",
       "      <td>454711000124102</td>\n",
       "      <td>1</td>\n",
       "    </tr>\n",
       "    <tr>\n",
       "      <th>1</th>\n",
       "      <td>000475c5-6d1f-c2af-9324-f51afef719b7</td>\n",
       "      <td>252160004</td>\n",
       "      <td>1</td>\n",
       "    </tr>\n",
       "    <tr>\n",
       "      <th>2</th>\n",
       "      <td>00086d10-d97d-7062-1a93-27ae02b8e972</td>\n",
       "      <td>29303009</td>\n",
       "      <td>1</td>\n",
       "    </tr>\n",
       "    <tr>\n",
       "      <th>3</th>\n",
       "      <td>00086d10-d97d-7062-1a93-27ae02b8e972</td>\n",
       "      <td>73761001</td>\n",
       "      <td>1</td>\n",
       "    </tr>\n",
       "    <tr>\n",
       "      <th>4</th>\n",
       "      <td>00086d10-d97d-7062-1a93-27ae02b8e972</td>\n",
       "      <td>763302001</td>\n",
       "      <td>1</td>\n",
       "    </tr>\n",
       "  </tbody>\n",
       "</table>\n",
       "</div>"
      ],
      "text/plain": [
       "                                PATIENT             CODE  PROCEDURES_CNT\n",
       "0  00002142-ea7b-b4a6-8427-69d5d9804e97  454711000124102               1\n",
       "1  000475c5-6d1f-c2af-9324-f51afef719b7        252160004               1\n",
       "2  00086d10-d97d-7062-1a93-27ae02b8e972         29303009               1\n",
       "3  00086d10-d97d-7062-1a93-27ae02b8e972         73761001               1\n",
       "4  00086d10-d97d-7062-1a93-27ae02b8e972        763302001               1"
      ]
     },
     "execution_count": 53,
     "metadata": {},
     "output_type": "execute_result"
    }
   ],
   "source": [
    "Procedures.head()"
   ]
  },
  {
   "cell_type": "code",
   "execution_count": 54,
   "id": "80d3510f",
   "metadata": {},
   "outputs": [],
   "source": [
    "tmp22=Procedures.pivot_table(index=[\"PATIENT\"], columns=\"CODE\", values ='PROCEDURES_CNT', aggfunc=np.sum, fill_value=0).reset_index()\n",
    "tmp22.columns=['PATIENT']+['Procedures_'+str(col) for col in tmp22.columns if col!='PATIENT']\n",
    "tmp23 = reduce(lambda x,y: pd.merge(x,y, on='PATIENT', how='left'), [tmp21, tmp22])\n"
   ]
  },
  {
   "cell_type": "code",
   "execution_count": 55,
   "id": "db4a7c53",
   "metadata": {},
   "outputs": [
    {
     "data": {
      "text/plain": [
       "(26596, 1210)"
      ]
     },
     "execution_count": 55,
     "metadata": {},
     "output_type": "execute_result"
    }
   ],
   "source": [
    "tmp23.shape"
   ]
  },
  {
   "cell_type": "code",
   "execution_count": 56,
   "id": "5f49d6d8",
   "metadata": {},
   "outputs": [
    {
     "data": {
      "text/html": [
       "<div>\n",
       "<style scoped>\n",
       "    .dataframe tbody tr th:only-of-type {\n",
       "        vertical-align: middle;\n",
       "    }\n",
       "\n",
       "    .dataframe tbody tr th {\n",
       "        vertical-align: top;\n",
       "    }\n",
       "\n",
       "    .dataframe thead th {\n",
       "        text-align: right;\n",
       "    }\n",
       "</style>\n",
       "<table border=\"1\" class=\"dataframe\">\n",
       "  <thead>\n",
       "    <tr style=\"text-align: right;\">\n",
       "      <th></th>\n",
       "      <th>PATIENT</th>\n",
       "      <th>START_NEW</th>\n",
       "      <th>STOP</th>\n",
       "      <th>INP_DURATION</th>\n",
       "      <th>READMISSION</th>\n",
       "      <th>allergy_1191</th>\n",
       "      <th>allergy_5640</th>\n",
       "      <th>allergy_7984</th>\n",
       "      <th>allergy_10831</th>\n",
       "      <th>allergy_25037</th>\n",
       "      <th>...</th>\n",
       "      <th>Procedures_763302001</th>\n",
       "      <th>Procedures_866148006</th>\n",
       "      <th>Procedures_868187001</th>\n",
       "      <th>Procedures_112001000119100</th>\n",
       "      <th>Procedures_112011000119102</th>\n",
       "      <th>Procedures_426701000119108</th>\n",
       "      <th>Procedures_428211000124100</th>\n",
       "      <th>Procedures_449381000124108</th>\n",
       "      <th>Procedures_454711000124102</th>\n",
       "      <th>Procedures_16335031000119103</th>\n",
       "    </tr>\n",
       "  </thead>\n",
       "  <tbody>\n",
       "    <tr>\n",
       "      <th>0</th>\n",
       "      <td>0360958b-500a-8b24-07dc-c6ec34186b7e</td>\n",
       "      <td>1914-10-28 00:56:04</td>\n",
       "      <td>1914-10-31 11:54:54</td>\n",
       "      <td>3.457523</td>\n",
       "      <td>N</td>\n",
       "      <td>NaN</td>\n",
       "      <td>NaN</td>\n",
       "      <td>NaN</td>\n",
       "      <td>NaN</td>\n",
       "      <td>NaN</td>\n",
       "      <td>...</td>\n",
       "      <td>NaN</td>\n",
       "      <td>NaN</td>\n",
       "      <td>NaN</td>\n",
       "      <td>NaN</td>\n",
       "      <td>NaN</td>\n",
       "      <td>NaN</td>\n",
       "      <td>NaN</td>\n",
       "      <td>NaN</td>\n",
       "      <td>NaN</td>\n",
       "      <td>NaN</td>\n",
       "    </tr>\n",
       "    <tr>\n",
       "      <th>1</th>\n",
       "      <td>56d5a077-96c5-a053-a55c-292484e5fd67</td>\n",
       "      <td>1920-01-12 14:49:07</td>\n",
       "      <td>1920-01-16 21:54:25</td>\n",
       "      <td>4.295347</td>\n",
       "      <td>N</td>\n",
       "      <td>NaN</td>\n",
       "      <td>NaN</td>\n",
       "      <td>NaN</td>\n",
       "      <td>NaN</td>\n",
       "      <td>NaN</td>\n",
       "      <td>...</td>\n",
       "      <td>NaN</td>\n",
       "      <td>NaN</td>\n",
       "      <td>NaN</td>\n",
       "      <td>NaN</td>\n",
       "      <td>NaN</td>\n",
       "      <td>NaN</td>\n",
       "      <td>NaN</td>\n",
       "      <td>NaN</td>\n",
       "      <td>NaN</td>\n",
       "      <td>NaN</td>\n",
       "    </tr>\n",
       "    <tr>\n",
       "      <th>2</th>\n",
       "      <td>11a9315b-b71a-d87e-56cf-4ffb471b2523</td>\n",
       "      <td>1920-12-17 21:23:30</td>\n",
       "      <td>1920-12-22 18:32:16</td>\n",
       "      <td>4.881088</td>\n",
       "      <td>N</td>\n",
       "      <td>NaN</td>\n",
       "      <td>NaN</td>\n",
       "      <td>NaN</td>\n",
       "      <td>NaN</td>\n",
       "      <td>NaN</td>\n",
       "      <td>...</td>\n",
       "      <td>NaN</td>\n",
       "      <td>NaN</td>\n",
       "      <td>NaN</td>\n",
       "      <td>NaN</td>\n",
       "      <td>NaN</td>\n",
       "      <td>NaN</td>\n",
       "      <td>NaN</td>\n",
       "      <td>NaN</td>\n",
       "      <td>NaN</td>\n",
       "      <td>NaN</td>\n",
       "    </tr>\n",
       "    <tr>\n",
       "      <th>3</th>\n",
       "      <td>223aa945-f14b-6006-7e7e-98ba1fb22cb6</td>\n",
       "      <td>1921-05-31 06:44:06</td>\n",
       "      <td>1921-06-04 07:43:45</td>\n",
       "      <td>4.041424</td>\n",
       "      <td>N</td>\n",
       "      <td>NaN</td>\n",
       "      <td>NaN</td>\n",
       "      <td>NaN</td>\n",
       "      <td>NaN</td>\n",
       "      <td>NaN</td>\n",
       "      <td>...</td>\n",
       "      <td>NaN</td>\n",
       "      <td>NaN</td>\n",
       "      <td>NaN</td>\n",
       "      <td>NaN</td>\n",
       "      <td>NaN</td>\n",
       "      <td>NaN</td>\n",
       "      <td>NaN</td>\n",
       "      <td>NaN</td>\n",
       "      <td>NaN</td>\n",
       "      <td>NaN</td>\n",
       "    </tr>\n",
       "    <tr>\n",
       "      <th>4</th>\n",
       "      <td>01318a0b-4cbb-3467-9605-dc8aeb7df935</td>\n",
       "      <td>1921-06-03 02:17:03</td>\n",
       "      <td>1921-06-04 22:58:48</td>\n",
       "      <td>1.862326</td>\n",
       "      <td>N</td>\n",
       "      <td>NaN</td>\n",
       "      <td>NaN</td>\n",
       "      <td>NaN</td>\n",
       "      <td>NaN</td>\n",
       "      <td>NaN</td>\n",
       "      <td>...</td>\n",
       "      <td>NaN</td>\n",
       "      <td>NaN</td>\n",
       "      <td>NaN</td>\n",
       "      <td>NaN</td>\n",
       "      <td>NaN</td>\n",
       "      <td>NaN</td>\n",
       "      <td>NaN</td>\n",
       "      <td>NaN</td>\n",
       "      <td>NaN</td>\n",
       "      <td>NaN</td>\n",
       "    </tr>\n",
       "  </tbody>\n",
       "</table>\n",
       "<p>5 rows × 1210 columns</p>\n",
       "</div>"
      ],
      "text/plain": [
       "                                PATIENT            START_NEW  \\\n",
       "0  0360958b-500a-8b24-07dc-c6ec34186b7e  1914-10-28 00:56:04   \n",
       "1  56d5a077-96c5-a053-a55c-292484e5fd67  1920-01-12 14:49:07   \n",
       "2  11a9315b-b71a-d87e-56cf-4ffb471b2523  1920-12-17 21:23:30   \n",
       "3  223aa945-f14b-6006-7e7e-98ba1fb22cb6  1921-05-31 06:44:06   \n",
       "4  01318a0b-4cbb-3467-9605-dc8aeb7df935  1921-06-03 02:17:03   \n",
       "\n",
       "                  STOP  INP_DURATION READMISSION  allergy_1191  allergy_5640  \\\n",
       "0  1914-10-31 11:54:54      3.457523           N           NaN           NaN   \n",
       "1  1920-01-16 21:54:25      4.295347           N           NaN           NaN   \n",
       "2  1920-12-22 18:32:16      4.881088           N           NaN           NaN   \n",
       "3  1921-06-04 07:43:45      4.041424           N           NaN           NaN   \n",
       "4  1921-06-04 22:58:48      1.862326           N           NaN           NaN   \n",
       "\n",
       "   allergy_7984  allergy_10831  allergy_25037  ...  Procedures_763302001  \\\n",
       "0           NaN            NaN            NaN  ...                   NaN   \n",
       "1           NaN            NaN            NaN  ...                   NaN   \n",
       "2           NaN            NaN            NaN  ...                   NaN   \n",
       "3           NaN            NaN            NaN  ...                   NaN   \n",
       "4           NaN            NaN            NaN  ...                   NaN   \n",
       "\n",
       "   Procedures_866148006  Procedures_868187001  Procedures_112001000119100  \\\n",
       "0                   NaN                   NaN                         NaN   \n",
       "1                   NaN                   NaN                         NaN   \n",
       "2                   NaN                   NaN                         NaN   \n",
       "3                   NaN                   NaN                         NaN   \n",
       "4                   NaN                   NaN                         NaN   \n",
       "\n",
       "   Procedures_112011000119102  Procedures_426701000119108  \\\n",
       "0                         NaN                         NaN   \n",
       "1                         NaN                         NaN   \n",
       "2                         NaN                         NaN   \n",
       "3                         NaN                         NaN   \n",
       "4                         NaN                         NaN   \n",
       "\n",
       "   Procedures_428211000124100  Procedures_449381000124108  \\\n",
       "0                         NaN                         NaN   \n",
       "1                         NaN                         NaN   \n",
       "2                         NaN                         NaN   \n",
       "3                         NaN                         NaN   \n",
       "4                         NaN                         NaN   \n",
       "\n",
       "   Procedures_454711000124102  Procedures_16335031000119103  \n",
       "0                         NaN                           NaN  \n",
       "1                         NaN                           NaN  \n",
       "2                         NaN                           NaN  \n",
       "3                         NaN                           NaN  \n",
       "4                         NaN                           NaN  \n",
       "\n",
       "[5 rows x 1210 columns]"
      ]
     },
     "execution_count": 56,
     "metadata": {},
     "output_type": "execute_result"
    }
   ],
   "source": [
    "tmp23.head()"
   ]
  },
  {
   "cell_type": "code",
   "execution_count": 57,
   "id": "1f3288fc",
   "metadata": {},
   "outputs": [],
   "source": [
    "ignore_cols =['START_NEW','STOP','INP_DURATION']"
   ]
  },
  {
   "cell_type": "code",
   "execution_count": 58,
   "id": "9a3b11c0",
   "metadata": {},
   "outputs": [],
   "source": [
    "tmp24=tmp23.drop(columns=ignore_cols)"
   ]
  },
  {
   "cell_type": "code",
   "execution_count": 59,
   "id": "7de9b723",
   "metadata": {},
   "outputs": [
    {
     "data": {
      "text/plain": [
       "(26596, 1207)"
      ]
     },
     "execution_count": 59,
     "metadata": {},
     "output_type": "execute_result"
    }
   ],
   "source": [
    "tmp24.shape"
   ]
  },
  {
   "cell_type": "code",
   "execution_count": 60,
   "id": "8f3d93b5",
   "metadata": {},
   "outputs": [
    {
     "data": {
      "text/plain": [
       "26596"
      ]
     },
     "execution_count": 60,
     "metadata": {},
     "output_type": "execute_result"
    }
   ],
   "source": [
    "len(np.unique(tmp24.PATIENT.values))"
   ]
  },
  {
   "cell_type": "code",
   "execution_count": 61,
   "id": "7a59d201",
   "metadata": {},
   "outputs": [],
   "source": [
    "tmp24.fillna(0,inplace=True)"
   ]
  },
  {
   "cell_type": "code",
   "execution_count": null,
   "id": "a336228e",
   "metadata": {},
   "outputs": [],
   "source": []
  },
  {
   "cell_type": "code",
   "execution_count": 62,
   "id": "aa96e2d3",
   "metadata": {},
   "outputs": [],
   "source": [
    "tmp24.to_csv(\"../feature_csvs/RAP_DF.csv\",index=None)"
   ]
  },
  {
   "cell_type": "code",
   "execution_count": 63,
   "id": "7903d801",
   "metadata": {},
   "outputs": [
    {
     "data": {
      "text/html": [
       "<div>\n",
       "<style scoped>\n",
       "    .dataframe tbody tr th:only-of-type {\n",
       "        vertical-align: middle;\n",
       "    }\n",
       "\n",
       "    .dataframe tbody tr th {\n",
       "        vertical-align: top;\n",
       "    }\n",
       "\n",
       "    .dataframe thead th {\n",
       "        text-align: right;\n",
       "    }\n",
       "</style>\n",
       "<table border=\"1\" class=\"dataframe\">\n",
       "  <thead>\n",
       "    <tr style=\"text-align: right;\">\n",
       "      <th></th>\n",
       "      <th>PATIENT</th>\n",
       "      <th>READMISSION</th>\n",
       "      <th>allergy_1191</th>\n",
       "      <th>allergy_5640</th>\n",
       "      <th>allergy_7984</th>\n",
       "      <th>allergy_10831</th>\n",
       "      <th>allergy_25037</th>\n",
       "      <th>allergy_29046</th>\n",
       "      <th>allergy_3718001</th>\n",
       "      <th>allergy_84489001</th>\n",
       "      <th>...</th>\n",
       "      <th>Procedures_763302001</th>\n",
       "      <th>Procedures_866148006</th>\n",
       "      <th>Procedures_868187001</th>\n",
       "      <th>Procedures_112001000119100</th>\n",
       "      <th>Procedures_112011000119102</th>\n",
       "      <th>Procedures_426701000119108</th>\n",
       "      <th>Procedures_428211000124100</th>\n",
       "      <th>Procedures_449381000124108</th>\n",
       "      <th>Procedures_454711000124102</th>\n",
       "      <th>Procedures_16335031000119103</th>\n",
       "    </tr>\n",
       "  </thead>\n",
       "  <tbody>\n",
       "    <tr>\n",
       "      <th>0</th>\n",
       "      <td>0360958b-500a-8b24-07dc-c6ec34186b7e</td>\n",
       "      <td>N</td>\n",
       "      <td>0.0</td>\n",
       "      <td>0.0</td>\n",
       "      <td>0.0</td>\n",
       "      <td>0.0</td>\n",
       "      <td>0.0</td>\n",
       "      <td>0.0</td>\n",
       "      <td>0.0</td>\n",
       "      <td>0.0</td>\n",
       "      <td>...</td>\n",
       "      <td>0.0</td>\n",
       "      <td>0.0</td>\n",
       "      <td>0.0</td>\n",
       "      <td>0.0</td>\n",
       "      <td>0.0</td>\n",
       "      <td>0.0</td>\n",
       "      <td>0.0</td>\n",
       "      <td>0.0</td>\n",
       "      <td>0.0</td>\n",
       "      <td>0.0</td>\n",
       "    </tr>\n",
       "    <tr>\n",
       "      <th>1</th>\n",
       "      <td>56d5a077-96c5-a053-a55c-292484e5fd67</td>\n",
       "      <td>N</td>\n",
       "      <td>0.0</td>\n",
       "      <td>0.0</td>\n",
       "      <td>0.0</td>\n",
       "      <td>0.0</td>\n",
       "      <td>0.0</td>\n",
       "      <td>0.0</td>\n",
       "      <td>0.0</td>\n",
       "      <td>0.0</td>\n",
       "      <td>...</td>\n",
       "      <td>0.0</td>\n",
       "      <td>0.0</td>\n",
       "      <td>0.0</td>\n",
       "      <td>0.0</td>\n",
       "      <td>0.0</td>\n",
       "      <td>0.0</td>\n",
       "      <td>0.0</td>\n",
       "      <td>0.0</td>\n",
       "      <td>0.0</td>\n",
       "      <td>0.0</td>\n",
       "    </tr>\n",
       "    <tr>\n",
       "      <th>2</th>\n",
       "      <td>11a9315b-b71a-d87e-56cf-4ffb471b2523</td>\n",
       "      <td>N</td>\n",
       "      <td>0.0</td>\n",
       "      <td>0.0</td>\n",
       "      <td>0.0</td>\n",
       "      <td>0.0</td>\n",
       "      <td>0.0</td>\n",
       "      <td>0.0</td>\n",
       "      <td>0.0</td>\n",
       "      <td>0.0</td>\n",
       "      <td>...</td>\n",
       "      <td>0.0</td>\n",
       "      <td>0.0</td>\n",
       "      <td>0.0</td>\n",
       "      <td>0.0</td>\n",
       "      <td>0.0</td>\n",
       "      <td>0.0</td>\n",
       "      <td>0.0</td>\n",
       "      <td>0.0</td>\n",
       "      <td>0.0</td>\n",
       "      <td>0.0</td>\n",
       "    </tr>\n",
       "    <tr>\n",
       "      <th>3</th>\n",
       "      <td>223aa945-f14b-6006-7e7e-98ba1fb22cb6</td>\n",
       "      <td>N</td>\n",
       "      <td>0.0</td>\n",
       "      <td>0.0</td>\n",
       "      <td>0.0</td>\n",
       "      <td>0.0</td>\n",
       "      <td>0.0</td>\n",
       "      <td>0.0</td>\n",
       "      <td>0.0</td>\n",
       "      <td>0.0</td>\n",
       "      <td>...</td>\n",
       "      <td>0.0</td>\n",
       "      <td>0.0</td>\n",
       "      <td>0.0</td>\n",
       "      <td>0.0</td>\n",
       "      <td>0.0</td>\n",
       "      <td>0.0</td>\n",
       "      <td>0.0</td>\n",
       "      <td>0.0</td>\n",
       "      <td>0.0</td>\n",
       "      <td>0.0</td>\n",
       "    </tr>\n",
       "    <tr>\n",
       "      <th>4</th>\n",
       "      <td>01318a0b-4cbb-3467-9605-dc8aeb7df935</td>\n",
       "      <td>N</td>\n",
       "      <td>0.0</td>\n",
       "      <td>0.0</td>\n",
       "      <td>0.0</td>\n",
       "      <td>0.0</td>\n",
       "      <td>0.0</td>\n",
       "      <td>0.0</td>\n",
       "      <td>0.0</td>\n",
       "      <td>0.0</td>\n",
       "      <td>...</td>\n",
       "      <td>0.0</td>\n",
       "      <td>0.0</td>\n",
       "      <td>0.0</td>\n",
       "      <td>0.0</td>\n",
       "      <td>0.0</td>\n",
       "      <td>0.0</td>\n",
       "      <td>0.0</td>\n",
       "      <td>0.0</td>\n",
       "      <td>0.0</td>\n",
       "      <td>0.0</td>\n",
       "    </tr>\n",
       "  </tbody>\n",
       "</table>\n",
       "<p>5 rows × 1207 columns</p>\n",
       "</div>"
      ],
      "text/plain": [
       "                                PATIENT READMISSION  allergy_1191  \\\n",
       "0  0360958b-500a-8b24-07dc-c6ec34186b7e           N           0.0   \n",
       "1  56d5a077-96c5-a053-a55c-292484e5fd67           N           0.0   \n",
       "2  11a9315b-b71a-d87e-56cf-4ffb471b2523           N           0.0   \n",
       "3  223aa945-f14b-6006-7e7e-98ba1fb22cb6           N           0.0   \n",
       "4  01318a0b-4cbb-3467-9605-dc8aeb7df935           N           0.0   \n",
       "\n",
       "   allergy_5640  allergy_7984  allergy_10831  allergy_25037  allergy_29046  \\\n",
       "0           0.0           0.0            0.0            0.0            0.0   \n",
       "1           0.0           0.0            0.0            0.0            0.0   \n",
       "2           0.0           0.0            0.0            0.0            0.0   \n",
       "3           0.0           0.0            0.0            0.0            0.0   \n",
       "4           0.0           0.0            0.0            0.0            0.0   \n",
       "\n",
       "   allergy_3718001  allergy_84489001  ...  Procedures_763302001  \\\n",
       "0              0.0               0.0  ...                   0.0   \n",
       "1              0.0               0.0  ...                   0.0   \n",
       "2              0.0               0.0  ...                   0.0   \n",
       "3              0.0               0.0  ...                   0.0   \n",
       "4              0.0               0.0  ...                   0.0   \n",
       "\n",
       "   Procedures_866148006  Procedures_868187001  Procedures_112001000119100  \\\n",
       "0                   0.0                   0.0                         0.0   \n",
       "1                   0.0                   0.0                         0.0   \n",
       "2                   0.0                   0.0                         0.0   \n",
       "3                   0.0                   0.0                         0.0   \n",
       "4                   0.0                   0.0                         0.0   \n",
       "\n",
       "   Procedures_112011000119102  Procedures_426701000119108  \\\n",
       "0                         0.0                         0.0   \n",
       "1                         0.0                         0.0   \n",
       "2                         0.0                         0.0   \n",
       "3                         0.0                         0.0   \n",
       "4                         0.0                         0.0   \n",
       "\n",
       "   Procedures_428211000124100  Procedures_449381000124108  \\\n",
       "0                         0.0                         0.0   \n",
       "1                         0.0                         0.0   \n",
       "2                         0.0                         0.0   \n",
       "3                         0.0                         0.0   \n",
       "4                         0.0                         0.0   \n",
       "\n",
       "   Procedures_454711000124102  Procedures_16335031000119103  \n",
       "0                         0.0                           0.0  \n",
       "1                         0.0                           0.0  \n",
       "2                         0.0                           0.0  \n",
       "3                         0.0                           0.0  \n",
       "4                         0.0                           0.0  \n",
       "\n",
       "[5 rows x 1207 columns]"
      ]
     },
     "execution_count": 63,
     "metadata": {},
     "output_type": "execute_result"
    }
   ],
   "source": [
    "tmp24.head()"
   ]
  },
  {
   "cell_type": "markdown",
   "id": "4fe7691f",
   "metadata": {},
   "source": [
    "# Above would create ML ready data frame. \n",
    "\n"
   ]
  },
  {
   "cell_type": "markdown",
   "id": "3010aa1c",
   "metadata": {},
   "source": [
    "# Next use 001_build_model.ipynb in model_build folder for building, cataloging and deploying the model"
   ]
  },
  {
   "cell_type": "code",
   "execution_count": 64,
   "id": "30c90e90",
   "metadata": {},
   "outputs": [],
   "source": [
    "tmp24 = pd.read_csv(\"../feature_csvs/RAP_DF.csv\")"
   ]
  },
  {
   "cell_type": "code",
   "execution_count": 65,
   "id": "25778029",
   "metadata": {},
   "outputs": [
    {
     "data": {
      "text/plain": [
       "Index(['PATIENT', 'READMISSION', 'allergy_1191', 'allergy_5640',\n",
       "       'allergy_7984', 'allergy_10831', 'allergy_25037', 'allergy_29046',\n",
       "       'allergy_3718001', 'allergy_84489001',\n",
       "       ...\n",
       "       'Procedures_763302001', 'Procedures_866148006', 'Procedures_868187001',\n",
       "       'Procedures_112001000119100', 'Procedures_112011000119102',\n",
       "       'Procedures_426701000119108', 'Procedures_428211000124100',\n",
       "       'Procedures_449381000124108', 'Procedures_454711000124102',\n",
       "       'Procedures_16335031000119103'],\n",
       "      dtype='object', length=1207)"
      ]
     },
     "execution_count": 65,
     "metadata": {},
     "output_type": "execute_result"
    }
   ],
   "source": [
    "tmp24.columns"
   ]
  },
  {
   "cell_type": "code",
   "execution_count": 66,
   "id": "87380459",
   "metadata": {},
   "outputs": [
    {
     "data": {
      "text/plain": [
       "(21, 37)"
      ]
     },
     "execution_count": 66,
     "metadata": {},
     "output_type": "execute_result"
    }
   ],
   "source": [
    "len([col for col in tmp24.columns if col.startswith('allergy')]), len([col for col in tmp24.columns if col.startswith('care')]),"
   ]
  },
  {
   "cell_type": "code",
   "execution_count": 67,
   "id": "cad7a92a",
   "metadata": {},
   "outputs": [
    {
     "data": {
      "text/plain": [
       "(194, 143)"
      ]
     },
     "execution_count": 67,
     "metadata": {},
     "output_type": "execute_result"
    }
   ],
   "source": [
    "len([col for col in tmp24.columns if col.startswith('diagnosis1')]),len([col for col in tmp24.columns if col.startswith('diagnosis2')]), "
   ]
  },
  {
   "cell_type": "code",
   "execution_count": 68,
   "id": "a4259445",
   "metadata": {},
   "outputs": [
    {
     "data": {
      "text/plain": [
       "(80, 0)"
      ]
     },
     "execution_count": 68,
     "metadata": {},
     "output_type": "execute_result"
    }
   ],
   "source": [
    "len([col for col in tmp24.columns if col.startswith('diagnosis3')]),len([col for col in tmp24.columns if col.startswith('patient')]), "
   ]
  },
  {
   "cell_type": "code",
   "execution_count": 69,
   "id": "3d981437",
   "metadata": {},
   "outputs": [
    {
     "data": {
      "text/plain": [
       "(230, 7)"
      ]
     },
     "execution_count": 69,
     "metadata": {},
     "output_type": "execute_result"
    }
   ],
   "source": [
    "len([col for col in tmp24.columns if col.startswith('Condition')]),len([col for col in tmp24.columns if col.startswith('Devices')]), "
   ]
  },
  {
   "cell_type": "code",
   "execution_count": 70,
   "id": "fd786ff7",
   "metadata": {},
   "outputs": [
    {
     "data": {
      "text/plain": [
       "(102, 21)"
      ]
     },
     "execution_count": 70,
     "metadata": {},
     "output_type": "execute_result"
    }
   ],
   "source": [
    "len([col for col in tmp24.columns if col.startswith('Encounter')]),len([col for col in tmp24.columns if col.startswith('Immunizations')]), "
   ]
  },
  {
   "cell_type": "code",
   "execution_count": 71,
   "id": "23ebdb69",
   "metadata": {},
   "outputs": [
    {
     "data": {
      "text/plain": [
       "(173, 193)"
      ]
     },
     "execution_count": 71,
     "metadata": {},
     "output_type": "execute_result"
    }
   ],
   "source": [
    "len([col for col in tmp24.columns if col.startswith('Medications')]),len([col for col in tmp24.columns if col.startswith('Procedures')]), "
   ]
  },
  {
   "cell_type": "markdown",
   "id": "ba98c1a7",
   "metadata": {},
   "source": [
    "# Useful code"
   ]
  },
  {
   "cell_type": "code",
   "execution_count": 7,
   "id": "3a65a61b",
   "metadata": {},
   "outputs": [
    {
     "data": {
      "application/vnd.jupyter.widget-view+json": {
       "model_id": "e0c134e2b29b4759990657417b74dfcc",
       "version_major": 2,
       "version_minor": 0
      },
      "text/plain": [
       "loop1:   0%|          | 0/4 [00:00<?, ?it/s]"
      ]
     },
     "metadata": {},
     "output_type": "display_data"
    }
   ],
   "source": [
    "# convert from Pandas Dataframe to ADSDataset\n",
    "ds = DatasetFactory.from_dataframe(df)"
   ]
  },
  {
   "cell_type": "code",
   "execution_count": 8,
   "id": "3015aa20",
   "metadata": {},
   "outputs": [
    {
     "data": {
      "application/vnd.jupyter.widget-view+json": {
       "model_id": "95cd2d2bdc1d45b8b0ca3310b7fa0ef4",
       "version_major": 2,
       "version_minor": 0
      },
      "text/plain": [
       "Accordion(children=(HTML(value='<h1>Name: User Provided DataFrame</h1><h3>Type: ADSDataset</h3><h3>26,596 Rows…"
      ]
     },
     "metadata": {},
     "output_type": "display_data"
    }
   ],
   "source": [
    "# data exploration\n",
    "ds.show_in_notebook()"
   ]
  },
  {
   "cell_type": "code",
   "execution_count": null,
   "id": "eecd4d85",
   "metadata": {},
   "outputs": [],
   "source": [
    "# convert back to Pandas Dataframe\n",
    "df1 = ds.to_pandas_dataframe()"
   ]
  },
  {
   "cell_type": "code",
   "execution_count": null,
   "id": "2b0b89f7",
   "metadata": {},
   "outputs": [],
   "source": [
    "# export dataset to ADW\n",
    "df1.ads.to_sql('<ADW username of table owner>.<name of table to post>', connection_parameters=conn, if_exists='replace')"
   ]
  }
 ],
 "metadata": {
  "kernelspec": {
   "display_name": "Python [conda env:generalml_p37_cpu_v1]",
   "language": "python",
   "name": "conda-env-generalml_p37_cpu_v1-py"
  },
  "language_info": {
   "codemirror_mode": {
    "name": "ipython",
    "version": 3
   },
   "file_extension": ".py",
   "mimetype": "text/x-python",
   "name": "python",
   "nbconvert_exporter": "python",
   "pygments_lexer": "ipython3",
   "version": "3.7.12"
  }
 },
 "nbformat": 4,
 "nbformat_minor": 5
}
