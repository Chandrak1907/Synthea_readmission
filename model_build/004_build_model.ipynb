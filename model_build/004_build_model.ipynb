{
 "cells": [
  {
   "cell_type": "markdown",
   "id": "484a1fc6",
   "metadata": {},
   "source": [
    "### OCI Data Science - Useful Tips\n",
    "<details>\n",
    "<summary><font size=\"2\">Check for Public Internet Access</font></summary>\n",
    "\n",
    "```python\n",
    "import requests\n",
    "response = requests.get(\"https://oracle.com\")\n",
    "assert response.status_code==200, \"Internet connection failed\"\n",
    "```\n",
    "</details>\n",
    "<details>\n",
    "<summary><font size=\"2\">Helpful Documentation </font></summary>\n",
    "<ul><li><a href=\"https://docs.cloud.oracle.com/en-us/iaas/data-science/using/data-science.htm\">Data Science Service Documentation</a></li>\n",
    "<li><a href=\"https://docs.cloud.oracle.com/iaas/tools/ads-sdk/latest/index.html\">ADS documentation</a></li>\n",
    "</ul>\n",
    "</details>\n",
    "<details>\n",
    "<summary><font size=\"2\">Typical Cell Imports and Settings for ADS</font></summary>\n",
    "\n",
    "```python\n",
    "%load_ext autoreload\n",
    "%autoreload 2\n",
    "%matplotlib inline\n",
    "\n",
    "import warnings\n",
    "warnings.filterwarnings('ignore')\n",
    "\n",
    "import logging\n",
    "logging.basicConfig(format='%(levelname)s:%(message)s', level=logging.ERROR)\n",
    "\n",
    "import ads\n",
    "from ads.dataset.factory import DatasetFactory\n",
    "from ads.automl.provider import OracleAutoMLProvider\n",
    "from ads.automl.driver import AutoML\n",
    "from ads.evaluations.evaluator import ADSEvaluator\n",
    "from ads.common.data import ADSData\n",
    "from ads.explanations.explainer import ADSExplainer\n",
    "from ads.explanations.mlx_global_explainer import MLXGlobalExplainer\n",
    "from ads.explanations.mlx_local_explainer import MLXLocalExplainer\n",
    "from ads.catalog.model import ModelCatalog\n",
    "from ads.common.model_artifact import ModelArtifact\n",
    "```\n",
    "</details>\n",
    "<details>\n",
    "<summary><font size=\"2\">Useful Environment Variables</font></summary>\n",
    "\n",
    "```python\n",
    "import os\n",
    "print(os.environ[\"NB_SESSION_COMPARTMENT_OCID\"])\n",
    "print(os.environ[\"PROJECT_OCID\"])\n",
    "print(os.environ[\"USER_OCID\"])\n",
    "print(os.environ[\"TENANCY_OCID\"])\n",
    "print(os.environ[\"NB_REGION\"])\n",
    "```\n",
    "</details>"
   ]
  },
  {
   "cell_type": "code",
   "execution_count": 1,
   "id": "e92ea977",
   "metadata": {},
   "outputs": [],
   "source": [
    "%matplotlib inline\n",
    "%load_ext autoreload\n",
    "%autoreload 2\n",
    "\n",
    "import gzip\n",
    "import pickle\n",
    "import logging\n",
    "import pandas as pd\n",
    "import matplotlib.pyplot as plt\n",
    "import seaborn as sns\n",
    "from ads.dataset.factory import DatasetFactory\n",
    "from ads.automl.provider import OracleAutoMLProvider\n",
    "from ads.automl.driver import AutoML\n",
    "from ads.evaluations.evaluator import ADSEvaluator\n",
    "\n",
    "plt.rcParams['figure.figsize'] = [10, 7]\n",
    "plt.rcParams['font.size'] = 15\n",
    "sns.set(color_codes=True)\n",
    "sns.set(font_scale=1.5)\n",
    "sns.set_palette(\"bright\")\n",
    "sns.set_style(\"whitegrid\")"
   ]
  },
  {
   "cell_type": "code",
   "execution_count": 2,
   "id": "f1b54506",
   "metadata": {},
   "outputs": [
    {
     "name": "stdout",
     "output_type": "stream",
     "text": [
      "/home/datascience/readmission/model_build\n"
     ]
    }
   ],
   "source": [
    "!pwd"
   ]
  },
  {
   "cell_type": "code",
   "execution_count": 3,
   "id": "a56e1686",
   "metadata": {},
   "outputs": [],
   "source": [
    "df = pd.read_csv(\"../feature_csvs/RAP_DF.csv\")\n",
    "\n",
    "df.shape\n",
    "\n",
    "# pd.DataFrame({'Data type': df.dtypes}).to_csv(\"./tmp.csv\")\n",
    "\n",
    "numerics = ['int16', 'int32', 'int64', 'float16', 'float32', 'float64']\n",
    "newdf = df.select_dtypes(include =numerics)"
   ]
  },
  {
   "cell_type": "code",
   "execution_count": 4,
   "id": "84297206",
   "metadata": {},
   "outputs": [
    {
     "data": {
      "text/plain": [
       "Index(['PATIENT', 'READMISSION', 'RACE', 'ETHNICITY', 'GENDER'], dtype='object')"
      ]
     },
     "execution_count": 4,
     "metadata": {},
     "output_type": "execute_result"
    }
   ],
   "source": [
    "df[[col for col in df.columns if col not in newdf.columns]].columns"
   ]
  },
  {
   "cell_type": "code",
   "execution_count": null,
   "id": "feed7aae",
   "metadata": {},
   "outputs": [],
   "source": []
  },
  {
   "cell_type": "code",
   "execution_count": 5,
   "id": "ae185c5d",
   "metadata": {},
   "outputs": [
    {
     "data": {
      "text/html": [
       "<div>\n",
       "<style scoped>\n",
       "    .dataframe tbody tr th:only-of-type {\n",
       "        vertical-align: middle;\n",
       "    }\n",
       "\n",
       "    .dataframe tbody tr th {\n",
       "        vertical-align: top;\n",
       "    }\n",
       "\n",
       "    .dataframe thead th {\n",
       "        text-align: right;\n",
       "    }\n",
       "</style>\n",
       "<table border=\"1\" class=\"dataframe\">\n",
       "  <thead>\n",
       "    <tr style=\"text-align: right;\">\n",
       "      <th></th>\n",
       "      <th>PATIENT</th>\n",
       "      <th>READMISSION</th>\n",
       "      <th>allergy_1191</th>\n",
       "      <th>allergy_5640</th>\n",
       "      <th>allergy_7984</th>\n",
       "      <th>allergy_10831</th>\n",
       "      <th>allergy_25037</th>\n",
       "      <th>allergy_29046</th>\n",
       "      <th>allergy_3718001</th>\n",
       "      <th>allergy_84489001</th>\n",
       "      <th>...</th>\n",
       "      <th>Procedures_763302001</th>\n",
       "      <th>Procedures_866148006</th>\n",
       "      <th>Procedures_868187001</th>\n",
       "      <th>Procedures_112001000119100</th>\n",
       "      <th>Procedures_112011000119102</th>\n",
       "      <th>Procedures_426701000119108</th>\n",
       "      <th>Procedures_428211000124100</th>\n",
       "      <th>Procedures_449381000124108</th>\n",
       "      <th>Procedures_454711000124102</th>\n",
       "      <th>Procedures_16335031000119103</th>\n",
       "    </tr>\n",
       "  </thead>\n",
       "  <tbody>\n",
       "    <tr>\n",
       "      <th>0</th>\n",
       "      <td>0360958b-500a-8b24-07dc-c6ec34186b7e</td>\n",
       "      <td>N</td>\n",
       "      <td>0.0</td>\n",
       "      <td>0.0</td>\n",
       "      <td>0.0</td>\n",
       "      <td>0.0</td>\n",
       "      <td>0.0</td>\n",
       "      <td>0.0</td>\n",
       "      <td>0.0</td>\n",
       "      <td>0.0</td>\n",
       "      <td>...</td>\n",
       "      <td>0.0</td>\n",
       "      <td>0.0</td>\n",
       "      <td>0.0</td>\n",
       "      <td>0.0</td>\n",
       "      <td>0.0</td>\n",
       "      <td>0.0</td>\n",
       "      <td>0.0</td>\n",
       "      <td>0.0</td>\n",
       "      <td>0.0</td>\n",
       "      <td>0.0</td>\n",
       "    </tr>\n",
       "    <tr>\n",
       "      <th>1</th>\n",
       "      <td>56d5a077-96c5-a053-a55c-292484e5fd67</td>\n",
       "      <td>N</td>\n",
       "      <td>0.0</td>\n",
       "      <td>0.0</td>\n",
       "      <td>0.0</td>\n",
       "      <td>0.0</td>\n",
       "      <td>0.0</td>\n",
       "      <td>0.0</td>\n",
       "      <td>0.0</td>\n",
       "      <td>0.0</td>\n",
       "      <td>...</td>\n",
       "      <td>0.0</td>\n",
       "      <td>0.0</td>\n",
       "      <td>0.0</td>\n",
       "      <td>0.0</td>\n",
       "      <td>0.0</td>\n",
       "      <td>0.0</td>\n",
       "      <td>0.0</td>\n",
       "      <td>0.0</td>\n",
       "      <td>0.0</td>\n",
       "      <td>0.0</td>\n",
       "    </tr>\n",
       "    <tr>\n",
       "      <th>2</th>\n",
       "      <td>11a9315b-b71a-d87e-56cf-4ffb471b2523</td>\n",
       "      <td>N</td>\n",
       "      <td>0.0</td>\n",
       "      <td>0.0</td>\n",
       "      <td>0.0</td>\n",
       "      <td>0.0</td>\n",
       "      <td>0.0</td>\n",
       "      <td>0.0</td>\n",
       "      <td>0.0</td>\n",
       "      <td>0.0</td>\n",
       "      <td>...</td>\n",
       "      <td>0.0</td>\n",
       "      <td>0.0</td>\n",
       "      <td>0.0</td>\n",
       "      <td>0.0</td>\n",
       "      <td>0.0</td>\n",
       "      <td>0.0</td>\n",
       "      <td>0.0</td>\n",
       "      <td>0.0</td>\n",
       "      <td>0.0</td>\n",
       "      <td>0.0</td>\n",
       "    </tr>\n",
       "    <tr>\n",
       "      <th>3</th>\n",
       "      <td>223aa945-f14b-6006-7e7e-98ba1fb22cb6</td>\n",
       "      <td>N</td>\n",
       "      <td>0.0</td>\n",
       "      <td>0.0</td>\n",
       "      <td>0.0</td>\n",
       "      <td>0.0</td>\n",
       "      <td>0.0</td>\n",
       "      <td>0.0</td>\n",
       "      <td>0.0</td>\n",
       "      <td>0.0</td>\n",
       "      <td>...</td>\n",
       "      <td>0.0</td>\n",
       "      <td>0.0</td>\n",
       "      <td>0.0</td>\n",
       "      <td>0.0</td>\n",
       "      <td>0.0</td>\n",
       "      <td>0.0</td>\n",
       "      <td>0.0</td>\n",
       "      <td>0.0</td>\n",
       "      <td>0.0</td>\n",
       "      <td>0.0</td>\n",
       "    </tr>\n",
       "    <tr>\n",
       "      <th>4</th>\n",
       "      <td>01318a0b-4cbb-3467-9605-dc8aeb7df935</td>\n",
       "      <td>N</td>\n",
       "      <td>0.0</td>\n",
       "      <td>0.0</td>\n",
       "      <td>0.0</td>\n",
       "      <td>0.0</td>\n",
       "      <td>0.0</td>\n",
       "      <td>0.0</td>\n",
       "      <td>0.0</td>\n",
       "      <td>0.0</td>\n",
       "      <td>...</td>\n",
       "      <td>0.0</td>\n",
       "      <td>0.0</td>\n",
       "      <td>0.0</td>\n",
       "      <td>0.0</td>\n",
       "      <td>0.0</td>\n",
       "      <td>0.0</td>\n",
       "      <td>0.0</td>\n",
       "      <td>0.0</td>\n",
       "      <td>0.0</td>\n",
       "      <td>0.0</td>\n",
       "    </tr>\n",
       "  </tbody>\n",
       "</table>\n",
       "<p>5 rows × 1207 columns</p>\n",
       "</div>"
      ],
      "text/plain": [
       "                                PATIENT READMISSION  allergy_1191  \\\n",
       "0  0360958b-500a-8b24-07dc-c6ec34186b7e           N           0.0   \n",
       "1  56d5a077-96c5-a053-a55c-292484e5fd67           N           0.0   \n",
       "2  11a9315b-b71a-d87e-56cf-4ffb471b2523           N           0.0   \n",
       "3  223aa945-f14b-6006-7e7e-98ba1fb22cb6           N           0.0   \n",
       "4  01318a0b-4cbb-3467-9605-dc8aeb7df935           N           0.0   \n",
       "\n",
       "   allergy_5640  allergy_7984  allergy_10831  allergy_25037  allergy_29046  \\\n",
       "0           0.0           0.0            0.0            0.0            0.0   \n",
       "1           0.0           0.0            0.0            0.0            0.0   \n",
       "2           0.0           0.0            0.0            0.0            0.0   \n",
       "3           0.0           0.0            0.0            0.0            0.0   \n",
       "4           0.0           0.0            0.0            0.0            0.0   \n",
       "\n",
       "   allergy_3718001  allergy_84489001  ...  Procedures_763302001  \\\n",
       "0              0.0               0.0  ...                   0.0   \n",
       "1              0.0               0.0  ...                   0.0   \n",
       "2              0.0               0.0  ...                   0.0   \n",
       "3              0.0               0.0  ...                   0.0   \n",
       "4              0.0               0.0  ...                   0.0   \n",
       "\n",
       "   Procedures_866148006  Procedures_868187001  Procedures_112001000119100  \\\n",
       "0                   0.0                   0.0                         0.0   \n",
       "1                   0.0                   0.0                         0.0   \n",
       "2                   0.0                   0.0                         0.0   \n",
       "3                   0.0                   0.0                         0.0   \n",
       "4                   0.0                   0.0                         0.0   \n",
       "\n",
       "   Procedures_112011000119102  Procedures_426701000119108  \\\n",
       "0                         0.0                         0.0   \n",
       "1                         0.0                         0.0   \n",
       "2                         0.0                         0.0   \n",
       "3                         0.0                         0.0   \n",
       "4                         0.0                         0.0   \n",
       "\n",
       "   Procedures_428211000124100  Procedures_449381000124108  \\\n",
       "0                         0.0                         0.0   \n",
       "1                         0.0                         0.0   \n",
       "2                         0.0                         0.0   \n",
       "3                         0.0                         0.0   \n",
       "4                         0.0                         0.0   \n",
       "\n",
       "   Procedures_454711000124102  Procedures_16335031000119103  \n",
       "0                         0.0                           0.0  \n",
       "1                         0.0                           0.0  \n",
       "2                         0.0                           0.0  \n",
       "3                         0.0                           0.0  \n",
       "4                         0.0                           0.0  \n",
       "\n",
       "[5 rows x 1207 columns]"
      ]
     },
     "execution_count": 5,
     "metadata": {},
     "output_type": "execute_result"
    }
   ],
   "source": [
    "df.head()"
   ]
  },
  {
   "cell_type": "code",
   "execution_count": null,
   "id": "95b77f2d",
   "metadata": {},
   "outputs": [],
   "source": []
  },
  {
   "cell_type": "code",
   "execution_count": 6,
   "id": "a57e2785",
   "metadata": {},
   "outputs": [],
   "source": [
    "#categorical data\n",
    "categorical_cols = ['READMISSION', 'RACE', 'ETHNICITY', 'GENDER'] \n",
    "\n",
    "#import pandas as pd\n",
    "df2 = pd.get_dummies(df, columns = categorical_cols,drop_first=True)"
   ]
  },
  {
   "cell_type": "code",
   "execution_count": 7,
   "id": "6c3c41c9",
   "metadata": {},
   "outputs": [
    {
     "data": {
      "text/plain": [
       "(26596, 1211)"
      ]
     },
     "execution_count": 7,
     "metadata": {},
     "output_type": "execute_result"
    }
   ],
   "source": [
    "df2.shape"
   ]
  },
  {
   "cell_type": "code",
   "execution_count": 8,
   "id": "8bf4abd4",
   "metadata": {},
   "outputs": [],
   "source": [
    "# from sklearn.preprocessing import LabelEncoder, OneHotEncoder\n",
    "# from sklearn.model_selection import train_test_split\n",
    "# from sklearn.preprocessing import StandardScaler\n",
    "# from sklearn.metrics import confusion_matrix, roc_auc_score"
   ]
  },
  {
   "cell_type": "code",
   "execution_count": 9,
   "id": "5d74b202",
   "metadata": {},
   "outputs": [],
   "source": [
    "# y = df2['READMISSION_Y'].values\n",
    "\n",
    "# X = df2.drop(['READMISSION_Y','PATIENT'], axis=1)\n",
    "\n",
    "# # Split data to train and test on 70-30 ratio\n",
    "# X_train, X_test, y_train, y_test = train_test_split(X, y, test_size=0.3,stratify=y)"
   ]
  },
  {
   "cell_type": "code",
   "execution_count": 10,
   "id": "cf4cbc11",
   "metadata": {},
   "outputs": [],
   "source": [
    "df2.drop(['PATIENT'],axis=1, inplace=True)"
   ]
  },
  {
   "cell_type": "code",
   "execution_count": 11,
   "id": "4295df97",
   "metadata": {},
   "outputs": [
    {
     "data": {
      "text/plain": [
       "Index(['allergy_1191', 'allergy_5640', 'allergy_7984', 'allergy_10831',\n",
       "       'allergy_25037', 'allergy_29046', 'allergy_3718001', 'allergy_84489001',\n",
       "       'allergy_102263004', 'allergy_111088007',\n",
       "       ...\n",
       "       'Procedures_454711000124102', 'Procedures_16335031000119103',\n",
       "       'READMISSION_Y', 'RACE_black', 'RACE_hawaiian', 'RACE_native',\n",
       "       'RACE_other', 'RACE_white', 'ETHNICITY_nonhispanic', 'GENDER_M'],\n",
       "      dtype='object', length=1210)"
      ]
     },
     "execution_count": 11,
     "metadata": {},
     "output_type": "execute_result"
    }
   ],
   "source": [
    "df2.columns"
   ]
  },
  {
   "cell_type": "code",
   "execution_count": 12,
   "id": "0d745085",
   "metadata": {},
   "outputs": [
    {
     "data": {
      "application/vnd.jupyter.widget-view+json": {
       "model_id": "",
       "version_major": 2,
       "version_minor": 0
      },
      "text/plain": [
       "loop1:   0%|          | 0/4 [00:00<?, ?it/s]"
      ]
     },
     "metadata": {},
     "output_type": "display_data"
    }
   ],
   "source": [
    "# convert from Pandas Dataframe to ADSDataset\n",
    "ds = DatasetFactory.from_dataframe(df2,target=\"READMISSION_Y\")"
   ]
  },
  {
   "cell_type": "code",
   "execution_count": 13,
   "id": "b6a237bb",
   "metadata": {},
   "outputs": [
    {
     "name": "stdout",
     "output_type": "stream",
     "text": [
      "CPU times: user 713 ms, sys: 101 ms, total: 814 ms\n",
      "Wall time: 820 ms\n"
     ]
    }
   ],
   "source": [
    "%%time\n",
    "train, test = ds.train_test_split(test_size=0.2)"
   ]
  },
  {
   "cell_type": "code",
   "execution_count": 14,
   "id": "edafa9f8",
   "metadata": {},
   "outputs": [
    {
     "name": "stdout",
     "output_type": "stream",
     "text": [
      "CPU times: user 27 µs, sys: 0 ns, total: 27 µs\n",
      "Wall time: 32.7 µs\n"
     ]
    }
   ],
   "source": [
    "%%time\n",
    "from ads.automl.provider import OracleAutoMLProvider\n",
    "from ads.automl.driver import AutoML\n",
    "from ads.dataset.factory import DatasetFactory\n",
    "## USE ADS for model building\n",
    "import ads\n",
    "import logging\n",
    "import seaborn as sns\n",
    "from ads.evaluations.evaluator import ADSEvaluator"
   ]
  },
  {
   "cell_type": "code",
   "execution_count": 15,
   "id": "48de111c",
   "metadata": {
    "jupyter": {
     "source_hidden": true
    }
   },
   "outputs": [
    {
     "name": "stdout",
     "output_type": "stream",
     "text": [
      "current time:- 2022-05-05 04:04:29.389344\n"
     ]
    }
   ],
   "source": [
    "import datetime\n",
    "ct = datetime.datetime.now()\n",
    "print(\"current time:-\", ct)"
   ]
  },
  {
   "cell_type": "code",
   "execution_count": 16,
   "id": "ac1ad051",
   "metadata": {},
   "outputs": [
    {
     "name": "stdout",
     "output_type": "stream",
     "text": [
      "current time:- 2022-05-05 04:04:29.530431\n"
     ]
    }
   ],
   "source": [
    "ct = datetime.datetime.now()\n",
    "print(\"current time:-\", ct)"
   ]
  },
  {
   "cell_type": "code",
   "execution_count": 17,
   "id": "be7e4d80",
   "metadata": {},
   "outputs": [
    {
     "name": "stdout",
     "output_type": "stream",
     "text": [
      "WARNING:ads.automl.provider.xengine:Local ProcessPool execution (n_jobs=24)\n",
      "WARNING:ads.automl.provider.pipeline:Random state (7) is used for model builds\n",
      "WARNING:ads.automl.provider.pipeline:Dataset shape: (21276, 1209)\n",
      "WARNING:ads.automl.provider.pipeline:Running Auto-Preprocessing\n",
      "WARNING:ads.automl.provider.pipeline:Preprocessing completed. Updated Dataset shape: (21276, 1179), cv: 5\n",
      "WARNING:ads.automl.provider.pipeline:SVC, KNeighborsClassifier are disabled for datasets with > 10K samples or > 1K features\n",
      "WARNING:ads.automl.provider.pipeline:Running Model Selection\n",
      "WARNING:ads.automl.provider.pipeline:Model Selection completed. Selected model: ['XGBClassifier']\n",
      "WARNING:ads.automl.provider.pipeline:Running Adaptive Sampling. Dataset Shape: (21276, 1179), Valid Shape: None, CV: 5, Class counts: [18409  2867]\n",
      "WARNING:ads.automl.provider.pipeline:Adaptive Sampling Completed. Updated Dataset Shape: (21276, 1179), Valid Shape: None, CV: [(17020, 4256), (17021, 4255), (17021, 4255), (17021, 4255), (17021, 4255)], Class counts: [18409  2867]\n",
      "WARNING:ads.automl.provider.pipeline:Starting Feature Selection 0. Dataset Shape: (21276, 1179)\n",
      "WARNING:ads.automl.provider.pipeline:Feature Selection 0 completed. Updated Dataset shape: (21276, 445)\n",
      "WARNING:ads.automl.provider.pipeline:Tuning XGBClassifier\n",
      "WARNING:ads.automl.provider.tune:Time budget exceeded by 4.96s\n",
      "WARNING:ads.automl.provider.pipeline:Tuning completed. Best params: {'booster': 'gbtree', 'learning_rate': 0.1, 'max_depth': 3, 'min_child_weight': 1, 'n_estimators': 100, 'reg_alpha': 0, 'reg_lambda': 1}\n",
      "WARNING:ads.automl.provider.pipeline:(Re)fitting Pipeline\n",
      "WARNING:ads.automl.provider.pipeline:Running Auto-Preprocessing\n",
      "WARNING:ads.automl.provider.pipeline:Preprocessing completed. Updated Dataset shape: (21276, 1179), cv: auto\n",
      "[04:14:51] WARNING: ../src/learner.cc:1115: Starting in XGBoost 1.3.0, the default evaluation metric used with the objective 'binary:logistic' was changed from 'error' to 'logloss'. Explicitly set eval_metric if you'd like to restore the old behavior.\n",
      "INFO:xengine:All work stopped\n",
      "INFO:xengine:All work stopped\n",
      "WARNING:ads.automl.provider.xengine:Local ProcessPool execution (n_jobs=24)\n",
      "WARNING:ads.automl.provider.pipeline:AutoML completed. Time taken - 635.125 sec\n"
     ]
    },
    {
     "data": {
      "text/html": [
       "<table border=\"1\" class=\"dataframe\">\n",
       "  <tbody>\n",
       "    <tr>\n",
       "      <td>Training Dataset size</td>\n",
       "      <td>(21276, 1209)</td>\n",
       "    </tr>\n",
       "    <tr>\n",
       "      <td>Validation Dataset size</td>\n",
       "      <td>None</td>\n",
       "    </tr>\n",
       "    <tr>\n",
       "      <td>CV</td>\n",
       "      <td>5</td>\n",
       "    </tr>\n",
       "    <tr>\n",
       "      <td>Target variable</td>\n",
       "      <td>READMISSION_Y</td>\n",
       "    </tr>\n",
       "    <tr>\n",
       "      <td>Optimization Metric</td>\n",
       "      <td>neg_log_loss</td>\n",
       "    </tr>\n",
       "    <tr>\n",
       "      <td>Initial number of Features</td>\n",
       "      <td>1209</td>\n",
       "    </tr>\n",
       "    <tr>\n",
       "      <td>Selected number of Features</td>\n",
       "      <td>445</td>\n",
       "    </tr>\n",
       "    <tr>\n",
       "      <td>Selected Features</td>\n",
       "      <td>Index(['allergy_84489001', 'allergy_256277009', 'allergy_260147004',\n",
       "       'careplan_134435003', 'careplan_170836005', 'careplan_182964004',\n",
       "       'careplan_395082007', 'careplan_412776001', 'careplan_699728000',\n",
       "       'careplan_711282006',\n",
       "       ...\n",
       "       'Procedures_763302001', 'Procedures_866148006',\n",
       "       'Procedures_112011000119102', 'Procedures_428211000124100',\n",
       "       'Procedures_454711000124102', 'Procedures_16335031000119103',\n",
       "       'RACE_black', 'RACE_white', 'ETHNICITY_nonhispanic', 'GENDER_M'],\n",
       "      dtype='object', length=445)</td>\n",
       "    </tr>\n",
       "    <tr>\n",
       "      <td>Selected Algorithm</td>\n",
       "      <td>XGBClassifier</td>\n",
       "    </tr>\n",
       "    <tr>\n",
       "      <td>End-to-end Elapsed Time (seconds)</td>\n",
       "      <td>645.8849</td>\n",
       "    </tr>\n",
       "    <tr>\n",
       "      <td>Selected Hyperparameters</td>\n",
       "      <td>{'objective': 'binary:logistic', 'use_label_encoder': True, 'base_score': 0.5, 'booster': 'gbtree', 'colsample_bylevel': 1, 'colsample_bynode': 1, 'colsample_bytree': 1, 'enable_categorical': False, 'gamma': 0, 'gpu_id': -1, 'importance_type': None, 'interaction_constraints': '', 'learning_rate': 0.1, 'max_delta_step': 0, 'max_depth': 3, 'min_child_weight': 1, 'missing': nan, 'monotone_constraints': '()', 'n_estimators': 100, 'n_jobs': 16, 'num_parallel_tree': 1, 'predictor': 'auto', 'random_state': 7, 'reg_alpha': 0, 'reg_lambda': 1, 'scale_pos_weight': 1, 'subsample': 1, 'tree_method': 'exact', 'validate_parameters': 1, 'verbosity': None}</td>\n",
       "    </tr>\n",
       "    <tr>\n",
       "      <td>Mean Validation Score</td>\n",
       "      <td>NaN</td>\n",
       "    </tr>\n",
       "    <tr>\n",
       "      <td>AutoML n_jobs</td>\n",
       "      <td>48</td>\n",
       "    </tr>\n",
       "    <tr>\n",
       "      <td>AutoML version</td>\n",
       "      <td>1.0</td>\n",
       "    </tr>\n",
       "    <tr>\n",
       "      <td>Python version</td>\n",
       "      <td>3.7.12 | packaged by conda-forge | (default, Oct 26 2021, 06:08:53) \\n[GCC 9.4.0]</td>\n",
       "    </tr>\n",
       "  </tbody>\n",
       "</table>"
      ],
      "text/plain": [
       "<IPython.core.display.HTML object>"
      ]
     },
     "metadata": {},
     "output_type": "display_data"
    },
    {
     "data": {
      "text/html": [
       "<table border=\"1\" class=\"dataframe\">\n",
       "  <thead>\n",
       "    <tr style=\"text-align: right;\">\n",
       "      <th>Rank based on Performance</th>\n",
       "      <th>Algorithm</th>\n",
       "      <th>#Samples</th>\n",
       "      <th>#Features</th>\n",
       "      <th>Mean Validation Score</th>\n",
       "      <th>Hyperparameters</th>\n",
       "      <th>CPU Time</th>\n",
       "      <th>Memory Usage</th>\n",
       "    </tr>\n",
       "  </thead>\n",
       "  <tbody>\n",
       "    <tr>\n",
       "      <td>2</td>\n",
       "      <td>XGBClassifier_AVGRanking_FS</td>\n",
       "      <td>21276</td>\n",
       "      <td>445</td>\n",
       "      <td>-0.0727</td>\n",
       "      <td>{'booster': 'gbtree', 'learning_rate': 0.1, 'max_depth': 3, 'min_child_weight': 1, 'n_estimators': 100, 'reg_alpha': 0, 'reg_lambda': 1}</td>\n",
       "      <td>93.0637</td>\n",
       "      <td>0.1410</td>\n",
       "    </tr>\n",
       "    <tr>\n",
       "      <td>3</td>\n",
       "      <td>XGBClassifier_AVGRanking_FS</td>\n",
       "      <td>21276</td>\n",
       "      <td>148</td>\n",
       "      <td>-0.0728</td>\n",
       "      <td>{'booster': 'gbtree', 'learning_rate': 0.1, 'max_depth': 3, 'min_child_weight': 1, 'n_estimators': 100, 'reg_alpha': 0, 'reg_lambda': 1}</td>\n",
       "      <td>34.5068</td>\n",
       "      <td>0.0746</td>\n",
       "    </tr>\n",
       "    <tr>\n",
       "      <td>4</td>\n",
       "      <td>XGBClassifier_AVGRanking_FS</td>\n",
       "      <td>21276</td>\n",
       "      <td>178</td>\n",
       "      <td>-0.0729</td>\n",
       "      <td>{'booster': 'gbtree', 'learning_rate': 0.1, 'max_depth': 3, 'min_child_weight': 1, 'n_estimators': 100, 'reg_alpha': 0, 'reg_lambda': 1}</td>\n",
       "      <td>39.0373</td>\n",
       "      <td>0.0069</td>\n",
       "    </tr>\n",
       "    <tr>\n",
       "      <td>5</td>\n",
       "      <td>XGBClassifier_AVGRanking_FS</td>\n",
       "      <td>21276</td>\n",
       "      <td>257</td>\n",
       "      <td>-0.0729</td>\n",
       "      <td>{'booster': 'gbtree', 'learning_rate': 0.1, 'max_depth': 3, 'min_child_weight': 1, 'n_estimators': 100, 'reg_alpha': 0, 'reg_lambda': 1}</td>\n",
       "      <td>55.3526</td>\n",
       "      <td>0.0664</td>\n",
       "    </tr>\n",
       "    <tr>\n",
       "      <td>6</td>\n",
       "      <td>XGBClassifier_AVGRanking_FS</td>\n",
       "      <td>21276</td>\n",
       "      <td>123</td>\n",
       "      <td>-0.0730</td>\n",
       "      <td>{'booster': 'gbtree', 'learning_rate': 0.1, 'max_depth': 3, 'min_child_weight': 1, 'n_estimators': 100, 'reg_alpha': 0, 'reg_lambda': 1}</td>\n",
       "      <td>28.9912</td>\n",
       "      <td>0.0000</td>\n",
       "    </tr>\n",
       "    <tr>\n",
       "      <td>...</td>\n",
       "      <td>...</td>\n",
       "      <td>...</td>\n",
       "      <td>...</td>\n",
       "      <td>...</td>\n",
       "      <td>...</td>\n",
       "      <td>...</td>\n",
       "      <td>...</td>\n",
       "    </tr>\n",
       "    <tr>\n",
       "      <td>163</td>\n",
       "      <td>XGBClassifier_MIClassification_FS</td>\n",
       "      <td>21276</td>\n",
       "      <td>1</td>\n",
       "      <td>-0.2960</td>\n",
       "      <td>{'booster': 'gbtree', 'learning_rate': 0.1, 'max_depth': 3, 'min_child_weight': 1, 'n_estimators': 100, 'reg_alpha': 0, 'reg_lambda': 1}</td>\n",
       "      <td>4.0374</td>\n",
       "      <td>0.0746</td>\n",
       "    </tr>\n",
       "    <tr>\n",
       "      <td>164</td>\n",
       "      <td>XGBClassifier_AdaBoostClassifier_FS</td>\n",
       "      <td>21276</td>\n",
       "      <td>1</td>\n",
       "      <td>-0.3954</td>\n",
       "      <td>{'booster': 'gbtree', 'learning_rate': 0.1, 'max_depth': 3, 'min_child_weight': 1, 'n_estimators': 100, 'reg_alpha': 0, 'reg_lambda': 1}</td>\n",
       "      <td>3.2579</td>\n",
       "      <td>0.0000</td>\n",
       "    </tr>\n",
       "    <tr>\n",
       "      <td>165</td>\n",
       "      <td>TorchMLPClassifier_AS</td>\n",
       "      <td>5000</td>\n",
       "      <td>1179</td>\n",
       "      <td>-0.4390</td>\n",
       "      <td>{'activation': 'relu', 'class_weight': None, 'dropout': 0.1, 'l2_reg': 0.0, 'nr_layers': 1, 'nr_neurons': 100, 'optimizer': 'adam'}</td>\n",
       "      <td>136.7920</td>\n",
       "      <td>0.0603</td>\n",
       "    </tr>\n",
       "    <tr>\n",
       "      <td>166</td>\n",
       "      <td>DecisionTreeClassifier_AS</td>\n",
       "      <td>5000</td>\n",
       "      <td>1179</td>\n",
       "      <td>-0.6216</td>\n",
       "      <td>{'class_weight': None, 'max_features': 1.0, 'min_samples_leaf': 0.000625, 'min_samples_split': 0.00125}</td>\n",
       "      <td>3.3190</td>\n",
       "      <td>0.0002</td>\n",
       "    </tr>\n",
       "    <tr>\n",
       "      <td>167</td>\n",
       "      <td>GaussianNB_AS</td>\n",
       "      <td>5000</td>\n",
       "      <td>1179</td>\n",
       "      <td>-14.5669</td>\n",
       "      <td>{}</td>\n",
       "      <td>1.7850</td>\n",
       "      <td>0.0002</td>\n",
       "    </tr>\n",
       "  </tbody>\n",
       "</table>"
      ],
      "text/plain": [
       "<IPython.core.display.HTML object>"
      ]
     },
     "metadata": {},
     "output_type": "display_data"
    },
    {
     "name": "stdout",
     "output_type": "stream",
     "text": [
      "CPU times: user 5min 1s, sys: 1min 33s, total: 6min 35s\n",
      "Wall time: 10min 50s\n"
     ]
    }
   ],
   "source": [
    "%%time\n",
    "# this is the default AutoML provider for regression and classification problem types.\n",
    "# over time Oracle will introduce other providers for other training tasks.\n",
    "ml_engine = OracleAutoMLProvider()\n",
    "oracle_automl = AutoML(train, provider=ml_engine)\n",
    "automl_model1, baseline1 = oracle_automl.train(time_budget=600)"
   ]
  },
  {
   "cell_type": "code",
   "execution_count": 18,
   "id": "1b5bfc03",
   "metadata": {},
   "outputs": [],
   "source": [
    "# %%time\n",
    "# n_jobs=-1\n",
    "# ml_engine = OracleAutoMLProvider(n_jobs=n_jobs,  loglevel=logging.INFO) \n",
    "# ml_engine.automl.init(\n",
    "#     engine='local',\n",
    "#     engine_opts={'n_jobs': n_jobs, 'model_n_jobs': 1},\n",
    "#     loglevel=logging.INFO,\n",
    "# )\n",
    "# oracle_automl = AutoML(train, provider=ml_engine)\n",
    "# automl_model2, _ = oracle_automl.train(time_budget=1800)"
   ]
  },
  {
   "cell_type": "code",
   "execution_count": 19,
   "id": "9c5a03cf",
   "metadata": {},
   "outputs": [
    {
     "name": "stdout",
     "output_type": "stream",
     "text": [
      "current time:- 2022-05-05 04:15:21.175001\n"
     ]
    }
   ],
   "source": [
    "ct = datetime.datetime.now()\n",
    "print(\"current time:-\", ct)"
   ]
  },
  {
   "cell_type": "code",
   "execution_count": 20,
   "id": "ae7016d8",
   "metadata": {},
   "outputs": [
    {
     "data": {
      "text/plain": [
       "Pipeline(model_list=['DecisionTreeClassifier', 'ExtraTreesClassifier',\n",
       "                     'GaussianNB', 'LGBMClassifier', 'LogisticRegression',\n",
       "                     'RandomForestClassifier', 'SVC', 'XGBClassifier',\n",
       "                     'TorchMLPClassifier'])"
      ]
     },
     "execution_count": 20,
     "metadata": {},
     "output_type": "execute_result"
    }
   ],
   "source": [
    "automl_model1"
   ]
  },
  {
   "cell_type": "code",
   "execution_count": 21,
   "id": "30fb8f7e",
   "metadata": {},
   "outputs": [
    {
     "name": "stdout",
     "output_type": "stream",
     "text": [
      "current time:- 2022-05-05 04:15:56.551419\n"
     ]
    }
   ],
   "source": [
    "ct = datetime.datetime.now()\n",
    "print(\"current time:-\", ct)"
   ]
  },
  {
   "cell_type": "code",
   "execution_count": 5,
   "id": "4eac21e4",
   "metadata": {},
   "outputs": [],
   "source": [
    "# Use below code for detailed Automl logging information\n",
    "# %%time\n",
    "# n_jobs=12\n",
    "# ml_engine = OracleAutoMLProvider(n_jobs=n_jobs,  loglevel=logging.INFO) \n",
    "# ml_engine.automl.init(\n",
    "#     engine='local',\n",
    "#     engine_opts={'n_jobs': n_jobs, 'model_n_jobs': 4},\n",
    "#     loglevel=logging.INFO,\n",
    "# )\n",
    "# oracle_automl = AutoML(train, provider=ml_engine)\n",
    "# automl_model2, _ = oracle_automl.train()"
   ]
  },
  {
   "cell_type": "code",
   "execution_count": 22,
   "id": "87f80907",
   "metadata": {},
   "outputs": [
    {
     "name": "stdout",
     "output_type": "stream",
     "text": [
      "CPU times: user 63 µs, sys: 0 ns, total: 63 µs\n",
      "Wall time: 90.8 µs\n"
     ]
    }
   ],
   "source": [
    "%%time\n",
    "import ads \n",
    "ads.set_auth(auth='resource_principal')"
   ]
  },
  {
   "cell_type": "code",
   "execution_count": 24,
   "id": "692581b2",
   "metadata": {},
   "outputs": [],
   "source": [
    "from ads.model.framework.automl_model import AutoMLModel\n",
    "artifact_dir = \"/home/datascience/readmission/Automl_artifacts\"\n",
    "automl_model = AutoMLModel(estimator=automl_model1, artifact_dir=artifact_dir)"
   ]
  },
  {
   "cell_type": "code",
   "execution_count": 25,
   "id": "c6e97469",
   "metadata": {},
   "outputs": [
    {
     "name": "stdout",
     "output_type": "stream",
     "text": [
      "WARNING:ADS:The input_schema is larger than `32000` bytes and cannot be stored as model catalog metadata.It will be saved to /home/datascience/readmission/Automl_artifacts/input_schema.json.\n"
     ]
    }
   ],
   "source": [
    "from ads.common.model_metadata import UseCaseType\n",
    "automl_model.prepare(inference_conda_env=\"generalml_p37_cpu_v1\",\n",
    "                    training_conda_env=\"generalml_p37_cpu_v1\",\n",
    "                    use_case_type=UseCaseType.BINARY_CLASSIFICATION,\n",
    "                    X_sample=test.X,\n",
    "                    force_overwrite=True,\n",
    "                    training_id=None)"
   ]
  },
  {
   "cell_type": "code",
   "execution_count": 26,
   "id": "ef960028",
   "metadata": {},
   "outputs": [
    {
     "name": "stdout",
     "output_type": "stream",
     "text": [
      "WARNING:ads.automl.provider.interface:Execution engine (local) has already been initialized. Reinitializing!\n",
      "INFO:xengine:All work stopped\n",
      "INFO:xengine:All work stopped\n",
      "WARNING:automl.xengine:Local ProcessPool execution (n_jobs=1)\n",
      "INFO:automl.xengine:Using Single Node XEngine with n_jobs: 1\n",
      "INFO:automl.xengine:Max timeout per task is set to 1500\n",
      "INFO:automl.xengine:local xengine initialization: <multiprocessing.pool.Pool object at 0x7fbfa5221110>\n",
      "Start loading model.pkl from model directory /home/datascience/readmission/Automl_artifacts ...\n",
      "Model is successfully loaded.\n",
      "INFO:automl.preprocessing:transform: After dropping constant and mangled columns Index(['diagnosis1_66857006', 'diagnosis1_160701002', 'diagnosis1_840544004',\n",
      "       'diagnosis2_7200002.0', 'diagnosis2_24079001.0',\n",
      "       'diagnosis2_840539006.0', 'diagnosis3_431855005.0',\n",
      "       'diagnosis3_449868002.0', 'diagnosis3_132281000119108.0',\n",
      "       'Condition_160701002', 'Medications_205923', 'Medications_212446',\n",
      "       'Medications_238100', 'Medications_309045', 'Medications_311700',\n",
      "       'Medications_312617', 'Medications_542347', 'Medications_562366',\n",
      "       'Medications_1234995', 'Medications_1659149', 'Medications_1659263',\n",
      "       'Medications_1729584', 'Medications_1734340', 'Medications_1734919',\n",
      "       'Medications_1735006', 'Medications_1736854', 'Medications_1740467',\n",
      "       'Medications_1808217', 'Procedures_32413006', 'Procedures_243063003'],\n",
      "      dtype='object'). Updated shape : (10, 1209)\n",
      "INFO:automl.preprocessing:transform: After feature engineering and transformations. Updated shape : (10, 1179)\n"
     ]
    },
    {
     "data": {
      "text/plain": [
       "{'prediction': [0, 0, 0, 0, 0, 0, 0, 0, 1, 0]}"
      ]
     },
     "execution_count": 26,
     "metadata": {},
     "output_type": "execute_result"
    }
   ],
   "source": [
    "automl_model.verify(test.X.iloc[:10])"
   ]
  },
  {
   "cell_type": "code",
   "execution_count": 27,
   "id": "d9b74947",
   "metadata": {},
   "outputs": [
    {
     "name": "stdout",
     "output_type": "stream",
     "text": [
      "WARNING:automl.interface:Execution engine (local) has already been initialized. Reinitializing!\n",
      "INFO:xengine:All work stopped\n",
      "INFO:xengine:All work stopped\n",
      "WARNING:automl.xengine:Local ProcessPool execution (n_jobs=1)\n",
      "INFO:automl.xengine:Using Single Node XEngine with n_jobs: 1\n",
      "INFO:automl.xengine:Max timeout per task is set to 1500\n",
      "INFO:automl.xengine:local xengine initialization: <multiprocessing.pool.Pool object at 0x7fbe4163d510>\n",
      "Start loading model.pkl from model directory /home/datascience/readmission/Automl_artifacts ...\n",
      "Model is successfully loaded.\n",
      "['input_schema.json', 'score.py', 'model.pkl', 'runtime.yaml']\n"
     ]
    },
    {
     "data": {
      "application/vnd.jupyter.widget-view+json": {
       "model_id": "",
       "version_major": 2,
       "version_minor": 0
      },
      "text/plain": [
       "loop1:   0%|          | 0/5 [00:00<?, ?it/s]"
      ]
     },
     "metadata": {},
     "output_type": "display_data"
    },
    {
     "name": "stdout",
     "output_type": "stream",
     "text": [
      "artifact:/tmp/saved_model_3510befb-6f0c-4d14-a6b0-88d6f776d6a9.zip\n"
     ]
    }
   ],
   "source": [
    "model_id = automl_model.save(display_name='Synthea - Readmission Prediction Model')"
   ]
  },
  {
   "cell_type": "code",
   "execution_count": 28,
   "id": "c2efb0e1",
   "metadata": {},
   "outputs": [
    {
     "data": {
      "application/vnd.jupyter.widget-view+json": {
       "model_id": "",
       "version_major": 2,
       "version_minor": 0
      },
      "text/plain": [
       "loop1:   0%|          | 0/6 [00:00<?, ?it/s]"
      ]
     },
     "metadata": {},
     "output_type": "display_data"
    }
   ],
   "source": [
    "deploy = automl_model.deploy(display_name='Syntea - Readmission Prediction Deployment')"
   ]
  },
  {
   "cell_type": "code",
   "execution_count": null,
   "id": "b77bc716",
   "metadata": {},
   "outputs": [],
   "source": []
  }
 ],
 "metadata": {
  "kernelspec": {
   "display_name": "Python [conda env:generalml_p37_cpu_v1]",
   "language": "python",
   "name": "conda-env-generalml_p37_cpu_v1-py"
  },
  "language_info": {
   "codemirror_mode": {
    "name": "ipython",
    "version": 3
   },
   "file_extension": ".py",
   "mimetype": "text/x-python",
   "name": "python",
   "nbconvert_exporter": "python",
   "pygments_lexer": "ipython3",
   "version": "3.7.12"
  }
 },
 "nbformat": 4,
 "nbformat_minor": 5
}
