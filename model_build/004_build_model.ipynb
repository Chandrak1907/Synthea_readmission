{
 "cells": [
  {
   "cell_type": "markdown",
   "id": "609fbbb5",
   "metadata": {},
   "source": [
    "### OCI Data Science - Useful Tips\n",
    "<details>\n",
    "<summary><font size=\"2\">Check for Public Internet Access</font></summary>\n",
    "\n",
    "```python\n",
    "import requests\n",
    "response = requests.get(\"https://oracle.com\")\n",
    "assert response.status_code==200, \"Internet connection failed\"\n",
    "```\n",
    "</details>\n",
    "<details>\n",
    "<summary><font size=\"2\">Helpful Documentation </font></summary>\n",
    "<ul><li><a href=\"https://docs.cloud.oracle.com/en-us/iaas/data-science/using/data-science.htm\">Data Science Service Documentation</a></li>\n",
    "<li><a href=\"https://docs.cloud.oracle.com/iaas/tools/ads-sdk/latest/index.html\">ADS documentation</a></li>\n",
    "</ul>\n",
    "</details>\n",
    "<details>\n",
    "<summary><font size=\"2\">Typical Cell Imports and Settings for ADS</font></summary>\n",
    "\n",
    "```python\n",
    "%load_ext autoreload\n",
    "%autoreload 2\n",
    "%matplotlib inline\n",
    "\n",
    "import warnings\n",
    "warnings.filterwarnings('ignore')\n",
    "\n",
    "import logging\n",
    "logging.basicConfig(format='%(levelname)s:%(message)s', level=logging.ERROR)\n",
    "\n",
    "import ads\n",
    "from ads.dataset.factory import DatasetFactory\n",
    "from ads.automl.provider import OracleAutoMLProvider\n",
    "from ads.automl.driver import AutoML\n",
    "from ads.evaluations.evaluator import ADSEvaluator\n",
    "from ads.common.data import ADSData\n",
    "from ads.explanations.explainer import ADSExplainer\n",
    "from ads.explanations.mlx_global_explainer import MLXGlobalExplainer\n",
    "from ads.explanations.mlx_local_explainer import MLXLocalExplainer\n",
    "from ads.catalog.model import ModelCatalog\n",
    "from ads.common.model_artifact import ModelArtifact\n",
    "```\n",
    "</details>\n",
    "<details>\n",
    "<summary><font size=\"2\">Useful Environment Variables</font></summary>\n",
    "\n",
    "```python\n",
    "import os\n",
    "print(os.environ[\"NB_SESSION_COMPARTMENT_OCID\"])\n",
    "print(os.environ[\"PROJECT_OCID\"])\n",
    "print(os.environ[\"USER_OCID\"])\n",
    "print(os.environ[\"TENANCY_OCID\"])\n",
    "print(os.environ[\"NB_REGION\"])\n",
    "```\n",
    "</details>"
   ]
  },
  {
   "cell_type": "code",
   "execution_count": 1,
   "id": "b098b4ef",
   "metadata": {},
   "outputs": [],
   "source": [
    "%matplotlib inline\n",
    "%load_ext autoreload\n",
    "%autoreload 2\n",
    "\n",
    "import gzip\n",
    "import pickle\n",
    "import logging\n",
    "import pandas as pd\n",
    "import matplotlib.pyplot as plt\n",
    "import seaborn as sns\n",
    "from ads.dataset.factory import DatasetFactory\n",
    "from ads.automl.provider import OracleAutoMLProvider\n",
    "from ads.automl.driver import AutoML\n",
    "from ads.evaluations.evaluator import ADSEvaluator\n",
    "\n",
    "plt.rcParams['figure.figsize'] = [10, 7]\n",
    "plt.rcParams['font.size'] = 15\n",
    "sns.set(color_codes=True)\n",
    "sns.set(font_scale=1.5)\n",
    "sns.set_palette(\"bright\")\n",
    "sns.set_style(\"whitegrid\")"
   ]
  },
  {
   "cell_type": "code",
   "execution_count": 2,
   "id": "c2d758d2",
   "metadata": {},
   "outputs": [
    {
     "name": "stdout",
     "output_type": "stream",
     "text": [
      "/home/datascience/readmission/model_build\n"
     ]
    }
   ],
   "source": [
    "!pwd"
   ]
  },
  {
   "cell_type": "code",
   "execution_count": 3,
   "id": "8b71e183",
   "metadata": {},
   "outputs": [],
   "source": [
    "df = pd.read_csv(\"../feature_csvs/RAP_DF.csv\")\n",
    "\n",
    "df.shape\n",
    "\n",
    "# pd.DataFrame({'Data type': df.dtypes}).to_csv(\"./tmp.csv\")\n",
    "\n",
    "numerics = ['int16', 'int32', 'int64', 'float16', 'float32', 'float64']\n",
    "newdf = df.select_dtypes(include =numerics)"
   ]
  },
  {
   "cell_type": "code",
   "execution_count": 4,
   "id": "1023619d",
   "metadata": {},
   "outputs": [
    {
     "data": {
      "text/plain": [
       "Index(['PATIENT', 'READMISSION', 'RACE', 'ETHNICITY', 'GENDER'], dtype='object')"
      ]
     },
     "execution_count": 4,
     "metadata": {},
     "output_type": "execute_result"
    }
   ],
   "source": [
    "df[[col for col in df.columns if col not in newdf.columns]].columns"
   ]
  },
  {
   "cell_type": "code",
   "execution_count": 5,
   "id": "08768847",
   "metadata": {},
   "outputs": [
    {
     "data": {
      "text/html": [
       "<div>\n",
       "<style scoped>\n",
       "    .dataframe tbody tr th:only-of-type {\n",
       "        vertical-align: middle;\n",
       "    }\n",
       "\n",
       "    .dataframe tbody tr th {\n",
       "        vertical-align: top;\n",
       "    }\n",
       "\n",
       "    .dataframe thead th {\n",
       "        text-align: right;\n",
       "    }\n",
       "</style>\n",
       "<table border=\"1\" class=\"dataframe\">\n",
       "  <thead>\n",
       "    <tr style=\"text-align: right;\">\n",
       "      <th></th>\n",
       "      <th>PATIENT</th>\n",
       "      <th>READMISSION</th>\n",
       "      <th>allergy_1191</th>\n",
       "      <th>allergy_5640</th>\n",
       "      <th>allergy_7984</th>\n",
       "      <th>allergy_10831</th>\n",
       "      <th>allergy_25037</th>\n",
       "      <th>allergy_29046</th>\n",
       "      <th>allergy_3718001</th>\n",
       "      <th>allergy_84489001</th>\n",
       "      <th>...</th>\n",
       "      <th>Procedures_763302001</th>\n",
       "      <th>Procedures_866148006</th>\n",
       "      <th>Procedures_868187001</th>\n",
       "      <th>Procedures_112001000119100</th>\n",
       "      <th>Procedures_112011000119102</th>\n",
       "      <th>Procedures_426701000119108</th>\n",
       "      <th>Procedures_428211000124100</th>\n",
       "      <th>Procedures_449381000124108</th>\n",
       "      <th>Procedures_454711000124102</th>\n",
       "      <th>Procedures_16335031000119103</th>\n",
       "    </tr>\n",
       "  </thead>\n",
       "  <tbody>\n",
       "    <tr>\n",
       "      <th>0</th>\n",
       "      <td>0360958b-500a-8b24-07dc-c6ec34186b7e</td>\n",
       "      <td>N</td>\n",
       "      <td>0.0</td>\n",
       "      <td>0.0</td>\n",
       "      <td>0.0</td>\n",
       "      <td>0.0</td>\n",
       "      <td>0.0</td>\n",
       "      <td>0.0</td>\n",
       "      <td>0.0</td>\n",
       "      <td>0.0</td>\n",
       "      <td>...</td>\n",
       "      <td>0.0</td>\n",
       "      <td>0.0</td>\n",
       "      <td>0.0</td>\n",
       "      <td>0.0</td>\n",
       "      <td>0.0</td>\n",
       "      <td>0.0</td>\n",
       "      <td>0.0</td>\n",
       "      <td>0.0</td>\n",
       "      <td>0.0</td>\n",
       "      <td>0.0</td>\n",
       "    </tr>\n",
       "    <tr>\n",
       "      <th>1</th>\n",
       "      <td>56d5a077-96c5-a053-a55c-292484e5fd67</td>\n",
       "      <td>N</td>\n",
       "      <td>0.0</td>\n",
       "      <td>0.0</td>\n",
       "      <td>0.0</td>\n",
       "      <td>0.0</td>\n",
       "      <td>0.0</td>\n",
       "      <td>0.0</td>\n",
       "      <td>0.0</td>\n",
       "      <td>0.0</td>\n",
       "      <td>...</td>\n",
       "      <td>0.0</td>\n",
       "      <td>0.0</td>\n",
       "      <td>0.0</td>\n",
       "      <td>0.0</td>\n",
       "      <td>0.0</td>\n",
       "      <td>0.0</td>\n",
       "      <td>0.0</td>\n",
       "      <td>0.0</td>\n",
       "      <td>0.0</td>\n",
       "      <td>0.0</td>\n",
       "    </tr>\n",
       "    <tr>\n",
       "      <th>2</th>\n",
       "      <td>11a9315b-b71a-d87e-56cf-4ffb471b2523</td>\n",
       "      <td>N</td>\n",
       "      <td>0.0</td>\n",
       "      <td>0.0</td>\n",
       "      <td>0.0</td>\n",
       "      <td>0.0</td>\n",
       "      <td>0.0</td>\n",
       "      <td>0.0</td>\n",
       "      <td>0.0</td>\n",
       "      <td>0.0</td>\n",
       "      <td>...</td>\n",
       "      <td>0.0</td>\n",
       "      <td>0.0</td>\n",
       "      <td>0.0</td>\n",
       "      <td>0.0</td>\n",
       "      <td>0.0</td>\n",
       "      <td>0.0</td>\n",
       "      <td>0.0</td>\n",
       "      <td>0.0</td>\n",
       "      <td>0.0</td>\n",
       "      <td>0.0</td>\n",
       "    </tr>\n",
       "    <tr>\n",
       "      <th>3</th>\n",
       "      <td>223aa945-f14b-6006-7e7e-98ba1fb22cb6</td>\n",
       "      <td>N</td>\n",
       "      <td>0.0</td>\n",
       "      <td>0.0</td>\n",
       "      <td>0.0</td>\n",
       "      <td>0.0</td>\n",
       "      <td>0.0</td>\n",
       "      <td>0.0</td>\n",
       "      <td>0.0</td>\n",
       "      <td>0.0</td>\n",
       "      <td>...</td>\n",
       "      <td>0.0</td>\n",
       "      <td>0.0</td>\n",
       "      <td>0.0</td>\n",
       "      <td>0.0</td>\n",
       "      <td>0.0</td>\n",
       "      <td>0.0</td>\n",
       "      <td>0.0</td>\n",
       "      <td>0.0</td>\n",
       "      <td>0.0</td>\n",
       "      <td>0.0</td>\n",
       "    </tr>\n",
       "    <tr>\n",
       "      <th>4</th>\n",
       "      <td>01318a0b-4cbb-3467-9605-dc8aeb7df935</td>\n",
       "      <td>N</td>\n",
       "      <td>0.0</td>\n",
       "      <td>0.0</td>\n",
       "      <td>0.0</td>\n",
       "      <td>0.0</td>\n",
       "      <td>0.0</td>\n",
       "      <td>0.0</td>\n",
       "      <td>0.0</td>\n",
       "      <td>0.0</td>\n",
       "      <td>...</td>\n",
       "      <td>0.0</td>\n",
       "      <td>0.0</td>\n",
       "      <td>0.0</td>\n",
       "      <td>0.0</td>\n",
       "      <td>0.0</td>\n",
       "      <td>0.0</td>\n",
       "      <td>0.0</td>\n",
       "      <td>0.0</td>\n",
       "      <td>0.0</td>\n",
       "      <td>0.0</td>\n",
       "    </tr>\n",
       "  </tbody>\n",
       "</table>\n",
       "<p>5 rows × 1207 columns</p>\n",
       "</div>"
      ],
      "text/plain": [
       "                                PATIENT READMISSION  allergy_1191  \\\n",
       "0  0360958b-500a-8b24-07dc-c6ec34186b7e           N           0.0   \n",
       "1  56d5a077-96c5-a053-a55c-292484e5fd67           N           0.0   \n",
       "2  11a9315b-b71a-d87e-56cf-4ffb471b2523           N           0.0   \n",
       "3  223aa945-f14b-6006-7e7e-98ba1fb22cb6           N           0.0   \n",
       "4  01318a0b-4cbb-3467-9605-dc8aeb7df935           N           0.0   \n",
       "\n",
       "   allergy_5640  allergy_7984  allergy_10831  allergy_25037  allergy_29046  \\\n",
       "0           0.0           0.0            0.0            0.0            0.0   \n",
       "1           0.0           0.0            0.0            0.0            0.0   \n",
       "2           0.0           0.0            0.0            0.0            0.0   \n",
       "3           0.0           0.0            0.0            0.0            0.0   \n",
       "4           0.0           0.0            0.0            0.0            0.0   \n",
       "\n",
       "   allergy_3718001  allergy_84489001  ...  Procedures_763302001  \\\n",
       "0              0.0               0.0  ...                   0.0   \n",
       "1              0.0               0.0  ...                   0.0   \n",
       "2              0.0               0.0  ...                   0.0   \n",
       "3              0.0               0.0  ...                   0.0   \n",
       "4              0.0               0.0  ...                   0.0   \n",
       "\n",
       "   Procedures_866148006  Procedures_868187001  Procedures_112001000119100  \\\n",
       "0                   0.0                   0.0                         0.0   \n",
       "1                   0.0                   0.0                         0.0   \n",
       "2                   0.0                   0.0                         0.0   \n",
       "3                   0.0                   0.0                         0.0   \n",
       "4                   0.0                   0.0                         0.0   \n",
       "\n",
       "   Procedures_112011000119102  Procedures_426701000119108  \\\n",
       "0                         0.0                         0.0   \n",
       "1                         0.0                         0.0   \n",
       "2                         0.0                         0.0   \n",
       "3                         0.0                         0.0   \n",
       "4                         0.0                         0.0   \n",
       "\n",
       "   Procedures_428211000124100  Procedures_449381000124108  \\\n",
       "0                         0.0                         0.0   \n",
       "1                         0.0                         0.0   \n",
       "2                         0.0                         0.0   \n",
       "3                         0.0                         0.0   \n",
       "4                         0.0                         0.0   \n",
       "\n",
       "   Procedures_454711000124102  Procedures_16335031000119103  \n",
       "0                         0.0                           0.0  \n",
       "1                         0.0                           0.0  \n",
       "2                         0.0                           0.0  \n",
       "3                         0.0                           0.0  \n",
       "4                         0.0                           0.0  \n",
       "\n",
       "[5 rows x 1207 columns]"
      ]
     },
     "execution_count": 5,
     "metadata": {},
     "output_type": "execute_result"
    }
   ],
   "source": [
    "df.head()"
   ]
  },
  {
   "cell_type": "code",
   "execution_count": 6,
   "id": "62322da7",
   "metadata": {},
   "outputs": [],
   "source": [
    "#categorical data\n",
    "categorical_cols = ['READMISSION', 'RACE', 'ETHNICITY', 'GENDER'] \n",
    "\n",
    "#import pandas as pd\n",
    "df2 = pd.get_dummies(df, columns = categorical_cols,drop_first=True)"
   ]
  },
  {
   "cell_type": "code",
   "execution_count": 7,
   "id": "a44048ff",
   "metadata": {},
   "outputs": [
    {
     "data": {
      "text/plain": [
       "(26596, 1211)"
      ]
     },
     "execution_count": 7,
     "metadata": {},
     "output_type": "execute_result"
    }
   ],
   "source": [
    "df2.shape"
   ]
  },
  {
   "cell_type": "code",
   "execution_count": 8,
   "id": "147ed404",
   "metadata": {},
   "outputs": [],
   "source": [
    "# from sklearn.preprocessing import LabelEncoder, OneHotEncoder\n",
    "# from sklearn.model_selection import train_test_split\n",
    "# from sklearn.preprocessing import StandardScaler\n",
    "# from sklearn.metrics import confusion_matrix, roc_auc_score"
   ]
  },
  {
   "cell_type": "code",
   "execution_count": 9,
   "id": "ca28d10c",
   "metadata": {},
   "outputs": [],
   "source": [
    "# y = df2['READMISSION_Y'].values\n",
    "\n",
    "# X = df2.drop(['READMISSION_Y','PATIENT'], axis=1)\n",
    "\n",
    "# # Split data to train and test on 70-30 ratio\n",
    "# X_train, X_test, y_train, y_test = train_test_split(X, y, test_size=0.3,stratify=y)"
   ]
  },
  {
   "cell_type": "code",
   "execution_count": 8,
   "id": "bd62e883",
   "metadata": {},
   "outputs": [],
   "source": [
    "df2.drop(['PATIENT'],axis=1, inplace=True)"
   ]
  },
  {
   "cell_type": "code",
   "execution_count": 9,
   "id": "af3353ea",
   "metadata": {},
   "outputs": [
    {
     "data": {
      "text/plain": [
       "Index(['allergy_1191', 'allergy_5640', 'allergy_7984', 'allergy_10831',\n",
       "       'allergy_25037', 'allergy_29046', 'allergy_3718001', 'allergy_84489001',\n",
       "       'allergy_102263004', 'allergy_111088007',\n",
       "       ...\n",
       "       'Procedures_454711000124102', 'Procedures_16335031000119103',\n",
       "       'READMISSION_Y', 'RACE_black', 'RACE_hawaiian', 'RACE_native',\n",
       "       'RACE_other', 'RACE_white', 'ETHNICITY_nonhispanic', 'GENDER_M'],\n",
       "      dtype='object', length=1210)"
      ]
     },
     "execution_count": 9,
     "metadata": {},
     "output_type": "execute_result"
    }
   ],
   "source": [
    "df2.columns"
   ]
  },
  {
   "cell_type": "code",
   "execution_count": 10,
   "id": "595835f2",
   "metadata": {},
   "outputs": [
    {
     "data": {
      "application/vnd.jupyter.widget-view+json": {
       "model_id": "",
       "version_major": 2,
       "version_minor": 0
      },
      "text/plain": [
       "loop1:   0%|          | 0/4 [00:00<?, ?it/s]"
      ]
     },
     "metadata": {},
     "output_type": "display_data"
    }
   ],
   "source": [
    "# convert from Pandas Dataframe to ADSDataset\n",
    "ds = DatasetFactory.from_dataframe(df2,target=\"READMISSION_Y\")"
   ]
  },
  {
   "cell_type": "code",
   "execution_count": 11,
   "id": "dcfbaedf",
   "metadata": {},
   "outputs": [
    {
     "name": "stdout",
     "output_type": "stream",
     "text": [
      "CPU times: user 1.12 s, sys: 968 ms, total: 2.09 s\n",
      "Wall time: 2.5 s\n"
     ]
    }
   ],
   "source": [
    "%%time\n",
    "train, test = ds.train_test_split(test_size=0.2)"
   ]
  },
  {
   "cell_type": "code",
   "execution_count": 12,
   "id": "5687d54d",
   "metadata": {},
   "outputs": [
    {
     "name": "stdout",
     "output_type": "stream",
     "text": [
      "CPU times: user 40 µs, sys: 4 µs, total: 44 µs\n",
      "Wall time: 50.5 µs\n"
     ]
    }
   ],
   "source": [
    "%%time\n",
    "from ads.automl.provider import OracleAutoMLProvider\n",
    "from ads.automl.driver import AutoML\n",
    "from ads.dataset.factory import DatasetFactory\n",
    "## USE ADS for model building\n",
    "import ads\n",
    "import logging\n",
    "import seaborn as sns\n",
    "from ads.evaluations.evaluator import ADSEvaluator"
   ]
  },
  {
   "cell_type": "code",
   "execution_count": 13,
   "id": "2067f36a",
   "metadata": {
    "jupyter": {
     "source_hidden": true
    }
   },
   "outputs": [
    {
     "name": "stdout",
     "output_type": "stream",
     "text": [
      "current time:- 2022-09-27 18:32:30.514795\n"
     ]
    }
   ],
   "source": [
    "import datetime\n",
    "ct = datetime.datetime.now()\n",
    "print(\"current time:-\", ct)"
   ]
  },
  {
   "cell_type": "code",
   "execution_count": 14,
   "id": "869dc48f",
   "metadata": {},
   "outputs": [
    {
     "name": "stdout",
     "output_type": "stream",
     "text": [
      "current time:- 2022-09-27 18:32:37.211942\n"
     ]
    }
   ],
   "source": [
    "ct = datetime.datetime.now()\n",
    "print(\"current time:-\", ct)"
   ]
  },
  {
   "cell_type": "code",
   "execution_count": 15,
   "id": "2738c4dd",
   "metadata": {},
   "outputs": [
    {
     "name": "stdout",
     "output_type": "stream",
     "text": [
      "WARNING:ads.automl.provider.xengine:Local ProcessPool execution (n_jobs=1)\n",
      "WARNING:ads.automl.provider.pipeline:Random state (7) is used for model builds\n",
      "WARNING:ads.automl.provider.pipeline:Dataset shape: (21276, 1209)\n",
      "WARNING:ads.automl.provider.pipeline:Running Auto-Preprocessing\n",
      "WARNING:ads.automl.provider.pipeline:Preprocessing completed. Updated Dataset shape: (21276, 1173), cv: 5\n",
      "WARNING:ads.automl.provider.pipeline:SVC, KNeighborsClassifier are disabled for datasets with > 10K samples or > 1K features\n",
      "WARNING:ads.automl.provider.pipeline:Running Model Selection\n",
      "WARNING:ads.automl.provider.xengine:Time budget exceeded by 0.38s, resetting XEngine\n",
      "WARNING:ads.automl.provider.xengine:Timebudget Exceeded or Timedout completed 21/40, 0 tasks timedout\n",
      "WARNING:ads.automl.provider.pipeline:Model Selection completed. Selected model: ['LGBMClassifier']\n",
      "WARNING:ads.automl.provider.pipeline:Running Adaptive Sampling. Dataset Shape: (21276, 1173), Valid Shape: None, CV: 5, Class counts: [18374  2902]\n",
      "WARNING:ads.automl.provider.pipeline:Timebudget exhausted. Skipping Adaptive Sampling\n",
      "WARNING:ads.automl.provider.pipeline:Adaptive Sampling Completed. Updated Dataset Shape: (21276, 1173), Valid Shape: None, CV: 5, Class counts: [18374  2902]\n",
      "WARNING:ads.automl.provider.pipeline:Starting Feature Selection 0. Dataset Shape: (21276, 1173)\n",
      "WARNING:ads.automl.provider.pipeline:Timebudget exhausted. Skipping Feature Selection\n",
      "WARNING:ads.automl.provider.pipeline:Using all features: Index(['allergy_1191', 'allergy_5640', 'allergy_7984', 'allergy_10831',\n",
      "       'allergy_25037', 'allergy_29046', 'allergy_3718001', 'allergy_84489001',\n",
      "       'allergy_102263004', 'allergy_111088007',\n",
      "       ...\n",
      "       'Procedures_449381000124108', 'Procedures_454711000124102',\n",
      "       'Procedures_16335031000119103', 'RACE_black', 'RACE_hawaiian',\n",
      "       'RACE_native', 'RACE_other', 'RACE_white', 'ETHNICITY_nonhispanic',\n",
      "       'GENDER_M'],\n",
      "      dtype='object', length=1173)\n",
      "WARNING:ads.automl.provider.pipeline:Feature Selection 0 completed. Updated Dataset shape: (21276, 1173)\n",
      "WARNING:ads.automl.provider.pipeline:Timebudget exhausted. Skipping Hyperparameter Optimization for LGBMClassifier\n",
      "WARNING:ads.automl.provider.pipeline:(Re)fitting Pipeline\n",
      "WARNING:ads.automl.provider.pipeline:Running Auto-Preprocessing\n",
      "WARNING:ads.automl.provider.pipeline:Preprocessing completed. Updated Dataset shape: (21276, 1173), cv: auto\n",
      "INFO:xengine:All work stopped\n",
      "INFO:xengine:All work stopped\n",
      "WARNING:ads.automl.provider.xengine:Local ProcessPool execution (n_jobs=1)\n",
      "WARNING:ads.automl.provider.pipeline:AutoML completed. Time taken - 670.849 sec\n",
      "ERROR:ads.common:Unfortunately, there were no trials found, so we cannot visualize it.\n",
      "CPU times: user 1min 7s, sys: 10.7 s, total: 1min 17s\n",
      "Wall time: 11min 40s\n"
     ]
    }
   ],
   "source": [
    "%%time\n",
    "# this is the default AutoML provider for regression and classification problem types.\n",
    "# over time Oracle will introduce other providers for other training tasks.\n",
    "ml_engine = OracleAutoMLProvider()\n",
    "oracle_automl = AutoML(train, provider=ml_engine)\n",
    "automl_model1, baseline1 = oracle_automl.train(time_budget=600)"
   ]
  },
  {
   "cell_type": "code",
   "execution_count": 27,
   "id": "37422a1b",
   "metadata": {},
   "outputs": [
    {
     "name": "stdout",
     "output_type": "stream",
     "text": [
      "Framework: lightgbm.sklearn\n",
      "Estimator class: LGBMClassifier\n",
      "Model Parameters: {'boosting_type': 'gbdt', 'class_weight': 'balanced', 'colsample_bytree': 1.0, 'importance_type': 'split', 'learning_rate': 0.1, 'max_depth': -1, 'min_child_samples': 20, 'min_child_weight': 0.001, 'min_split_gain': 0.0, 'n_estimators': 100, 'n_jobs': 2, 'num_leaves': 31, 'objective': None, 'random_state': 7, 'reg_alpha': 0, 'reg_lambda': 1, 'silent': 'warn', 'subsample': 1.0, 'subsample_for_bin': 200000, 'subsample_freq': 0}\n",
      "\n"
     ]
    }
   ],
   "source": [
    "automl_model1.summary()"
   ]
  },
  {
   "cell_type": "code",
   "execution_count": 17,
   "id": "6d50ac8f",
   "metadata": {},
   "outputs": [
    {
     "name": "stdout",
     "output_type": "stream",
     "text": [
      "current time:- 2022-09-27 18:44:22.179427\n"
     ]
    }
   ],
   "source": [
    "ct = datetime.datetime.now()\n",
    "print(\"current time:-\", ct)"
   ]
  },
  {
   "cell_type": "code",
   "execution_count": 19,
   "id": "71b6c871",
   "metadata": {},
   "outputs": [
    {
     "name": "stdout",
     "output_type": "stream",
     "text": [
      "current time:- 2022-09-27 18:45:14.793762\n"
     ]
    }
   ],
   "source": [
    "ct = datetime.datetime.now()\n",
    "print(\"current time:-\", ct)"
   ]
  },
  {
   "cell_type": "code",
   "execution_count": 20,
   "id": "163daf28",
   "metadata": {},
   "outputs": [
    {
     "name": "stdout",
     "output_type": "stream",
     "text": [
      "CPU times: user 98 µs, sys: 0 ns, total: 98 µs\n",
      "Wall time: 117 µs\n"
     ]
    }
   ],
   "source": [
    "%%time\n",
    "import ads \n",
    "ads.set_auth(auth='resource_principal')"
   ]
  },
  {
   "cell_type": "code",
   "execution_count": 21,
   "id": "b535e5a4",
   "metadata": {},
   "outputs": [],
   "source": [
    "from ads.model.framework.automl_model import AutoMLModel\n",
    "artifact_dir = \"/home/datascience/readmission/Automl_artifacts\"\n",
    "automl_model = AutoMLModel(estimator=automl_model1, artifact_dir=artifact_dir)"
   ]
  },
  {
   "cell_type": "code",
   "execution_count": 22,
   "id": "50fb0a69",
   "metadata": {},
   "outputs": [
    {
     "name": "stdout",
     "output_type": "stream",
     "text": [
      "WARNING:ADS:The input_schema is larger than `32000` bytes and cannot be stored as model catalog metadata.It will be saved to /home/datascience/readmission/Automl_artifacts/input_schema.json.\n"
     ]
    }
   ],
   "source": [
    "from ads.common.model_metadata import UseCaseType\n",
    "automl_model.prepare(inference_conda_env=\"generalml_p37_cpu_v1\",\n",
    "                    training_conda_env=\"generalml_p37_cpu_v1\",\n",
    "                    use_case_type=UseCaseType.BINARY_CLASSIFICATION,\n",
    "                    X_sample=test.X,\n",
    "                    force_overwrite=True,\n",
    "                    training_id=None)"
   ]
  },
  {
   "cell_type": "code",
   "execution_count": 26,
   "id": "ef9a5793",
   "metadata": {},
   "outputs": [
    {
     "name": "stdout",
     "output_type": "stream",
     "text": [
      "WARNING:ads.automl.provider.interface:Execution engine (local) has already been initialized. Reinitializing!\n",
      "INFO:xengine:All work stopped\n",
      "INFO:xengine:All work stopped\n",
      "WARNING:automl.xengine:Local ProcessPool execution (n_jobs=1)\n",
      "INFO:automl.xengine:Using Single Node XEngine with n_jobs: 1\n",
      "INFO:automl.xengine:Max timeout per task is set to 1500\n",
      "INFO:automl.xengine:local xengine initialization: <multiprocessing.pool.Pool object at 0x7fbfa5221110>\n",
      "Start loading model.pkl from model directory /home/datascience/readmission/Automl_artifacts ...\n",
      "Model is successfully loaded.\n",
      "INFO:automl.preprocessing:transform: After dropping constant and mangled columns Index(['diagnosis1_66857006', 'diagnosis1_160701002', 'diagnosis1_840544004',\n",
      "       'diagnosis2_7200002.0', 'diagnosis2_24079001.0',\n",
      "       'diagnosis2_840539006.0', 'diagnosis3_431855005.0',\n",
      "       'diagnosis3_449868002.0', 'diagnosis3_132281000119108.0',\n",
      "       'Condition_160701002', 'Medications_205923', 'Medications_212446',\n",
      "       'Medications_238100', 'Medications_309045', 'Medications_311700',\n",
      "       'Medications_312617', 'Medications_542347', 'Medications_562366',\n",
      "       'Medications_1234995', 'Medications_1659149', 'Medications_1659263',\n",
      "       'Medications_1729584', 'Medications_1734340', 'Medications_1734919',\n",
      "       'Medications_1735006', 'Medications_1736854', 'Medications_1740467',\n",
      "       'Medications_1808217', 'Procedures_32413006', 'Procedures_243063003'],\n",
      "      dtype='object'). Updated shape : (10, 1209)\n",
      "INFO:automl.preprocessing:transform: After feature engineering and transformations. Updated shape : (10, 1179)\n"
     ]
    },
    {
     "data": {
      "text/plain": [
       "{'prediction': [0, 0, 0, 0, 0, 0, 0, 0, 1, 0]}"
      ]
     },
     "execution_count": 26,
     "metadata": {},
     "output_type": "execute_result"
    }
   ],
   "source": [
    "automl_model.verify(test.X.iloc[:10])"
   ]
  },
  {
   "cell_type": "code",
   "execution_count": 23,
   "id": "073f0251",
   "metadata": {},
   "outputs": [
    {
     "name": "stdout",
     "output_type": "stream",
     "text": [
      "WARNING:ads.automl.provider.interface:Execution engine (local) has already been initialized. Reinitializing!\n",
      "INFO:xengine:All work stopped\n",
      "INFO:xengine:All work stopped\n",
      "WARNING:automl.xengine:Local ProcessPool execution (n_jobs=1)\n",
      "INFO:automl.xengine:Using Single Node XEngine with n_jobs: 1\n",
      "INFO:automl.xengine:Max timeout per task is set to 1500\n",
      "INFO:automl.xengine:local xengine initialization: <multiprocessing.pool.Pool object at 0x7f4e1959fe10>\n",
      "Start loading model.pkl from model directory /home/datascience/readmission/Automl_artifacts ...\n",
      "Model is successfully loaded.\n",
      "['input_schema.json', 'test_json_output.json', 'score.py', 'model.pkl', 'runtime.yaml']\n"
     ]
    },
    {
     "data": {
      "application/vnd.jupyter.widget-view+json": {
       "model_id": "",
       "version_major": 2,
       "version_minor": 0
      },
      "text/plain": [
       "loop1:   0%|          | 0/5 [00:00<?, ?it/s]"
      ]
     },
     "metadata": {},
     "output_type": "display_data"
    },
    {
     "name": "stdout",
     "output_type": "stream",
     "text": [
      "artifact:/tmp/saved_model_77a59e4c-9855-4302-a25f-3cffb754bf47.zip\n"
     ]
    }
   ],
   "source": [
    "model_id = automl_model.save(display_name='Synthea - Readmission Prediction Model')"
   ]
  },
  {
   "cell_type": "code",
   "execution_count": 24,
   "id": "95a35177",
   "metadata": {},
   "outputs": [
    {
     "data": {
      "application/vnd.jupyter.widget-view+json": {
       "model_id": "",
       "version_major": 2,
       "version_minor": 0
      },
      "text/plain": [
       "loop1:   0%|          | 0/6 [00:00<?, ?it/s]"
      ]
     },
     "metadata": {},
     "output_type": "display_data"
    }
   ],
   "source": [
    "deploy = automl_model.deploy(display_name='Syntea - Readmission Prediction Deployment')"
   ]
  },
  {
   "cell_type": "code",
   "execution_count": null,
   "id": "5c40d641",
   "metadata": {},
   "outputs": [],
   "source": []
  }
 ],
 "metadata": {
  "kernelspec": {
   "display_name": "Python [conda env:generalml_p37_cpu_v1]",
   "language": "python",
   "name": "conda-env-generalml_p37_cpu_v1-py"
  },
  "language_info": {
   "codemirror_mode": {
    "name": "ipython",
    "version": 3
   },
   "file_extension": ".py",
   "mimetype": "text/x-python",
   "name": "python",
   "nbconvert_exporter": "python",
   "pygments_lexer": "ipython3",
   "version": "3.7.12"
  }
 },
 "nbformat": 4,
 "nbformat_minor": 5
}
